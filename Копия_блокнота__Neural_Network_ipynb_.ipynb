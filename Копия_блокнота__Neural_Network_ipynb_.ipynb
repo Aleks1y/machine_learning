{
  "cells": [
    {
      "cell_type": "markdown",
      "metadata": {
        "id": "tOVbE9rS3agc"
      },
      "source": [
        "# Задание 2.1 - Нейронные сети\n",
        "\n",
        "В этом задании вы реализуете и натренируете настоящую нейроную сеть своими руками!\n",
        "\n",
        "В некотором смысле это будет расширением прошлого задания - нам нужно просто составить несколько линейных классификаторов вместе!\n",
        "\n",
        "<img src=\"https://i.redd.it/n9fgba8b0qr01.png\" alt=\"Stack_more_layers\" width=\"400px\"/>"
      ]
    },
    {
      "cell_type": "code",
      "execution_count": null,
      "metadata": {
        "colab": {
          "background_save": true
        },
        "id": "nxqQATlr9pZL",
        "outputId": "9b825ac8-7e9a-467b-a4ca-ecd002035d45"
      },
      "outputs": [
        {
          "name": "stdout",
          "output_type": "stream",
          "text": [
            "fatal: destination path 'dlcourse_ai' already exists and is not an empty directory.\n"
          ]
        }
      ],
      "source": [
        "!git clone https://github.com/sim0nsays/dlcourse_ai.git"
      ]
    },
    {
      "cell_type": "code",
      "execution_count": null,
      "metadata": {
        "id": "QmK2OZRC9pxO"
      },
      "outputs": [],
      "source": [
        "!/content/dlcourse_ai/assignments/assignment1/download_data.sh"
      ]
    },
    {
      "cell_type": "code",
      "execution_count": null,
      "metadata": {
        "id": "YeZ7-iyJAin7"
      },
      "outputs": [],
      "source": [
        "!pip install -r /content/dlcourse_ai/assignments/assignment1/requirements.txt"
      ]
    },
    {
      "cell_type": "code",
      "execution_count": null,
      "metadata": {
        "id": "26q7Bdnf9phf"
      },
      "outputs": [],
      "source": [
        "!cp /content/dlcourse_ai/assignments/assignment2/* ."
      ]
    },
    {
      "cell_type": "code",
      "execution_count": null,
      "metadata": {
        "id": "Qpj6L2PZ3agf"
      },
      "outputs": [],
      "source": [
        "import numpy as np\n",
        "import matplotlib.pyplot as plt\n",
        "\n",
        "%matplotlib inline\n",
        "\n",
        "%load_ext autoreload\n",
        "%autoreload 2"
      ]
    },
    {
      "cell_type": "code",
      "execution_count": null,
      "metadata": {
        "id": "o8y_ly2Y3agh"
      },
      "outputs": [],
      "source": [
        "from dataset import load_svhn, random_split_train_val\n",
        "from optim import SGD, MomentumSGD\n",
        "from metrics import multiclass_accuracy"
      ]
    },
    {
      "cell_type": "markdown",
      "metadata": {
        "id": "LLAOLDIl3agh"
      },
      "source": [
        "# Загружаем данные\n",
        "\n",
        "И разделяем их на training и validation."
      ]
    },
    {
      "cell_type": "code",
      "execution_count": null,
      "metadata": {
        "id": "AI6a7zdB3agi"
      },
      "outputs": [],
      "source": [
        "def prepare_for_neural_network(train_X, test_X):\n",
        "    train_flat = train_X.reshape(train_X.shape[0], -1).astype(float) / 255.0\n",
        "    test_flat = test_X.reshape(test_X.shape[0], -1).astype(float) / 255.0\n",
        "    \n",
        "    # Subtract mean\n",
        "    mean_image = np.mean(train_flat, axis = 0)\n",
        "    train_flat -= mean_image\n",
        "    test_flat -= mean_image\n",
        "    \n",
        "    return train_flat, test_flat\n",
        "    \n",
        "train_X, train_y, test_X, test_y = load_svhn(\"data\", max_train=10000, max_test=1000)    \n",
        "train_X, test_X = prepare_for_neural_network(train_X, test_X)\n",
        "# Split train into train and val\n",
        "train_X, train_y, val_X, val_y = random_split_train_val(train_X, train_y, num_val = 1000)"
      ]
    },
    {
      "cell_type": "markdown",
      "metadata": {
        "id": "alluOHc73agi"
      },
      "source": [
        "# Как всегда, начинаем с кирпичиков\n",
        "\n",
        "Мы будем реализовывать необходимые нам слои по очереди. Каждый слой должен реализовать:\n",
        "- прямой проход (forward pass), который генерирует выход слоя по входу и запоминает необходимые данные\n",
        "- обратный проход (backward pass), который получает градиент по выходу слоя и вычисляет градиент по входу и по параметрам\n",
        "\n",
        "Начнем с ReLU, у которого параметров нет."
      ]
    },
    {
      "cell_type": "code",
      "execution_count": null,
      "metadata": {
        "id": "Yryxn76pCBZK"
      },
      "outputs": [],
      "source": [
        "class ReLULayer:\n",
        "    def __init__(self):\n",
        "        pass\n",
        "\n",
        "    def forward(self, X):\n",
        "        # TODO: Implement forward pass\n",
        "        # Hint: you'll need to save some information about X\n",
        "        # to use it later in the backward pass\n",
        "        self.X = X\n",
        "        return np.maximum(self.X, 0)\n",
        "\n",
        "    def backward(self, d_out):\n",
        "        \"\"\"\n",
        "        Backward pass\n",
        "        Arguments:\n",
        "        d_out, np array (batch_size, num_features) - gradient\n",
        "           of loss function with respect to output\n",
        "        Returns:\n",
        "        d_result: np array (batch_size, num_features) - gradient\n",
        "          with respect to input\n",
        "        \"\"\"\n",
        "        # TODO: Implement backward pass\n",
        "        # Your final implementation shouldn't have any loops\n",
        "        r = d_out.copy()\n",
        "        r[self.X <= 0] = 0\n",
        "        return r\n",
        "\n",
        "    def params(self):\n",
        "        # ReLU Doesn't have any parameters\n",
        "        return {}\n"
      ]
    },
    {
      "cell_type": "code",
      "execution_count": null,
      "metadata": {
        "id": "wDnBddxQGl6Q"
      },
      "outputs": [],
      "source": [
        "def check_gradient(f, x, delta=1e-5, tol=1e-4):\n",
        "    \"\"\"\n",
        "    Checks the implementation of analytical gradient by comparing\n",
        "    it to numerical gradient using two-point formula\n",
        "    Arguments:\n",
        "      f: function that receives x and computes value and gradient\n",
        "      x: np array, initial point where gradient is checked\n",
        "      delta: step to compute numerical gradient\n",
        "      tol: tolerance for comparing numerical and analytical gradient\n",
        "    Return: bool indicating whether gradients match or not\n",
        "    \"\"\"\n",
        "\n",
        "    assert isinstance(x, np.ndarray)\n",
        "    assert x.dtype == float\n",
        "\n",
        "    orig_x = x.copy()\n",
        "    fx, analytic_grad = f(x)\n",
        "    assert np.all(np.isclose(orig_x, x, tol)), \"Functions shouldn't modify input variables\"\n",
        "\n",
        "    assert analytic_grad.shape == x.shape\n",
        "    analytic_grad = analytic_grad.copy()\n",
        "\n",
        "    # We will go through every dimension of x and compute numeric derivative for it\n",
        "    it = np.nditer(x, flags=['multi_index'], op_flags=['readwrite'])\n",
        "    while not it.finished:\n",
        "        ix = it.multi_index\n",
        "        analytic_grad_at_ix = analytic_grad[ix]\n",
        "\n",
        "        ix_delta = np.zeros_like(x)\n",
        "        ix_delta[ix] = delta\n",
        "        numeric_grad_at_ix = (f(x + ix_delta)[0] - f(x - ix_delta)[0]) / (2 * delta)\n",
        "\n",
        "        if not np.isclose(numeric_grad_at_ix, analytic_grad_at_ix, tol):\n",
        "            print(\"Gradients are different at %s. Analytic: %2.5f, Numeric: %2.5f\" % (\n",
        "            ix, analytic_grad_at_ix, numeric_grad_at_ix))\n",
        "            return False\n",
        "\n",
        "        it.iternext()\n",
        "\n",
        "    print(\"Gradient check passed!\")\n",
        "    return True\n",
        "\n",
        "\n",
        "def check_layer_gradient(layer, x, delta=1e-5, tol=1e-4):\n",
        "    \"\"\"\n",
        "    Checks gradient correctness for the input and output of a layer\n",
        "    Arguments:\n",
        "      layer: neural network layer, with forward and backward functions\n",
        "      x: starting point for layer input\n",
        "      delta: step to compute numerical gradient\n",
        "      tol: tolerance for comparing numerical and analytical gradient\n",
        "    Returns:\n",
        "      bool indicating whether gradients match or not\n",
        "    \"\"\"\n",
        "    output = layer.forward(x)\n",
        "    output_weight = np.random.randn(*output.shape)\n",
        "\n",
        "    def helper_func(x):\n",
        "        output = layer.forward(x)\n",
        "        loss = np.sum(output * output_weight)\n",
        "        d_out = np.ones_like(output) * output_weight\n",
        "        grad = layer.backward(d_out)\n",
        "        return loss, grad\n",
        "\n",
        "    return check_gradient(helper_func, x, delta, tol)\n",
        "\n",
        "\n",
        "def check_layer_param_gradient(layer, x,\n",
        "                               param_name,\n",
        "                               delta=1e-5, tol=1e-4):\n",
        "    \"\"\"\n",
        "    Checks gradient correctness for the parameter of the layer\n",
        "    Arguments:\n",
        "      layer: neural network layer, with forward and backward functions\n",
        "      x: starting point for layer input\n",
        "      param_name: name of the parameter\n",
        "      delta: step to compute numerical gradient\n",
        "      tol: tolerance for comparing numerical and analytical gradient\n",
        "    Returns:\n",
        "      bool indicating whether gradients match or not\n",
        "    \"\"\"\n",
        "    param = layer.params()[param_name]\n",
        "    initial_w = param.value\n",
        "\n",
        "    output = layer.forward(x)\n",
        "    output_weight = np.random.randn(*output.shape)\n",
        "\n",
        "    def helper_func(w):\n",
        "        param.value = w\n",
        "        output = layer.forward(x)\n",
        "        loss = np.sum(output * output_weight)\n",
        "        d_out = np.ones_like(output) * output_weight\n",
        "        layer.backward(d_out)\n",
        "        grad = param.grad\n",
        "        return loss, grad\n",
        "\n",
        "    return check_gradient(helper_func, initial_w, delta, tol)\n",
        "\n",
        "\n",
        "def check_model_gradient(model, X, y,\n",
        "                         delta=1e-5, tol=1e-4):\n",
        "    \"\"\"\n",
        "    Checks gradient correctness for all model parameters\n",
        "    Arguments:\n",
        "      model: neural network model with compute_loss_and_gradients\n",
        "      X: batch of input data\n",
        "      y: batch of labels\n",
        "      delta: step to compute numerical gradient\n",
        "      tol: tolerance for comparing numerical and analytical gradient\n",
        "    Returns:\n",
        "      bool indicating whether gradients match or not\n",
        "    \"\"\"\n",
        "    params = model.params()\n",
        "\n",
        "    for param_key in params:\n",
        "        print(\"Checking gradient for %s\" % param_key)\n",
        "        param = params[param_key]\n",
        "        initial_w = param.value\n",
        "\n",
        "        def helper_func(w):\n",
        "            param.value = w\n",
        "            loss = model.compute_loss_and_gradients(X, y)\n",
        "            grad = param.grad\n",
        "            return loss, grad\n",
        "\n",
        "        if not check_gradient(helper_func, initial_w, delta, tol):\n",
        "            return False\n",
        "\n",
        "    return True"
      ]
    },
    {
      "cell_type": "code",
      "execution_count": null,
      "metadata": {
        "colab": {
          "base_uri": "https://localhost:8080/"
        },
        "id": "2WVdViCg3agj",
        "outputId": "8a3069b6-29e1-4603-bd80-cd1af70affc0",
        "scrolled": false
      },
      "outputs": [
        {
          "name": "stdout",
          "output_type": "stream",
          "text": [
            "Gradient check passed!\n"
          ]
        }
      ],
      "source": [
        "# TODO: Implement ReLULayer layer in layers.py\n",
        "# Note: you'll need to copy implementation of the gradient_check function from the previous assignment\n",
        "\n",
        "X = np.array([[1,-2,3],\n",
        "              [-1, 2, 0.1]\n",
        "              ])\n",
        "\n",
        "assert check_layer_gradient(ReLULayer(), X)"
      ]
    },
    {
      "cell_type": "markdown",
      "metadata": {
        "id": "HZqRXwTZ3agk"
      },
      "source": [
        "А теперь реализуем полносвязный слой (fully connected layer), у которого будет два массива параметров: W (weights) и B (bias).\n",
        "\n",
        "Все параметры наши слои будут использовать для параметров специальный класс `Param`, в котором будут храниться значения параметров и градиенты этих параметров, вычисляемые во время обратного прохода.\n",
        "\n",
        "Это даст возможность аккумулировать (суммировать) градиенты из разных частей функции потерь, например, из cross-entropy loss и regularization loss."
      ]
    },
    {
      "cell_type": "code",
      "execution_count": null,
      "metadata": {
        "id": "WdCVHx-xHMrJ"
      },
      "outputs": [],
      "source": [
        "def softmax(predictions):\n",
        "    \"\"\"\n",
        "    Computes probabilities from scores\n",
        "    Arguments:\n",
        "      predictions, np array, shape is either (N) or (batch_size, N) - classifier output\n",
        "    Returns:\n",
        "      probs, np array of the same shape as predictions - probability for every class, 0..1\n",
        "    \"\"\"\n",
        "\n",
        "    if predictions.ndim == 1:\n",
        "        normalized_predictions = predictions - np.max(predictions)\n",
        "        return np.exp(normalized_predictions) / np.sum(np.exp(normalized_predictions))\n",
        "    else:\n",
        "        normalized_predictions = predictions - np.max(predictions, axis=1)[:, np.newaxis]\n",
        "        return np.exp(normalized_predictions) / np.sum(np.exp(normalized_predictions), axis=1)[:, np.newaxis]\n",
        "\n",
        "\n",
        "def cross_entropy_loss(probabilities, target_index):\n",
        "    \"\"\"\n",
        "    Computes cross-entropy loss\n",
        "    Arguments:\n",
        "      probabilities, np array, shape is either (N) or (batch_size, N) - probabilities for every class\n",
        "      target_index: np array of int, shape is (1) or (batch_size) - index of the true class for given sample(s)\n",
        "    Returns:\n",
        "      loss: single value\n",
        "    \"\"\"\n",
        "    if probabilities.ndim == 1:\n",
        "        return -np.log(probabilities[target_index])\n",
        "    else:\n",
        "        flatten_target_index = target_index.flatten()\n",
        "        return -np.mean(np.log(probabilities[(\n",
        "            np.arange(flatten_target_index.shape[0]),\n",
        "            flatten_target_index\n",
        "        )]))\n",
        "\n",
        "\n",
        "def softmax_with_cross_entropy(predictions, target_index):\n",
        "    \"\"\"\n",
        "    Computes softmax and cross-entropy loss for model predictions,\n",
        "    including the gradient\n",
        "    Arguments:\n",
        "      predictions, np array, shape is either (N) or (batch_size, N) - classifier output\n",
        "      target_index: np array of int, shape is (1) or (batch_size) - index of the true class for given sample(s)\n",
        "    Returns:\n",
        "      loss, single value - cross-entropy loss\n",
        "      dprediction, np array same shape as predictions - gradient of predictions by loss value\n",
        "    \"\"\"\n",
        "    probabilities = softmax(predictions)\n",
        "    loss = cross_entropy_loss(probabilities, target_index)\n",
        "\n",
        "    subtr = np.zeros_like(probabilities)\n",
        "\n",
        "    if probabilities.ndim == 1:\n",
        "        subtr[target_index] = 1\n",
        "        dprediction = probabilities - subtr\n",
        "    else:\n",
        "        batch_size = predictions.shape[0]\n",
        "        subtr[(\n",
        "            np.arange(target_index.shape[0]),\n",
        "            target_index.flatten()\n",
        "        )] = 1\n",
        "        dprediction = (probabilities - subtr) / batch_size\n",
        "\n",
        "    return loss, dprediction\n",
        "\n",
        "\n",
        "def l2_regularization(W, reg_strength):\n",
        "    \"\"\"\n",
        "    Computes L2 regularization loss on weights and its gradient\n",
        "    Arguments:\n",
        "      W, np array - weights\n",
        "      reg_strength - float value\n",
        "    Returns:\n",
        "      loss, single value - l2 regularization loss\n",
        "      gradient, np.array same shape as W - gradient of weight by l2 loss\n",
        "    \"\"\"\n",
        "\n",
        "    loss = reg_strength * (W ** 2).sum()\n",
        "    gradient = 2 * reg_strength * W\n",
        "\n",
        "    return loss, gradient\n",
        "\n",
        "\n",
        "def linear_softmax(X, W, target_index):\n",
        "    \"\"\"\n",
        "    Performs linear classification and returns loss and gradient over W\n",
        "    Arguments:\n",
        "      X, np array, shape (num_batch, num_features) - batch of images\n",
        "      W, np array, shape (num_features, classes) - weights\n",
        "      target_index, np array, shape (num_batch) - index of target classes\n",
        "    Returns:\n",
        "      loss, single value - cross-entropy loss\n",
        "      gradient, np.array same shape as W - gradient of weight by loss\n",
        "    \"\"\"\n",
        "    predictions = np.dot(X, W)\n",
        "\n",
        "    loss, dprediction = softmax_with_cross_entropy(predictions, target_index)\n",
        "    dW = np.dot(X.T, dprediction)\n",
        "\n",
        "    return loss, dW\n",
        "\n",
        "\n",
        "class Param:\n",
        "    \"\"\"\n",
        "    Trainable parameter of the model\n",
        "    Captures both parameter value and the gradient\n",
        "    \"\"\"\n",
        "\n",
        "    def __init__(self, value):\n",
        "        self.value = value\n",
        "        self.grad = np.zeros_like(value)\n",
        "\n",
        "\n",
        "class ReLULayer:\n",
        "    def __init__(self):\n",
        "        pass\n",
        "\n",
        "    def forward(self, X):\n",
        "        # TODO: Implement forward pass\n",
        "        # Hint: you'll need to save some information about X\n",
        "        # to use it later in the backward pass\n",
        "        self.X = X\n",
        "        return np.maximum(self.X, 0)\n",
        "\n",
        "    def backward(self, d_out):\n",
        "        \"\"\"\n",
        "        Backward pass\n",
        "        Arguments:\n",
        "        d_out, np array (batch_size, num_features) - gradient\n",
        "           of loss function with respect to output\n",
        "        Returns:\n",
        "        d_result: np array (batch_size, num_features) - gradient\n",
        "          with respect to input\n",
        "        \"\"\"\n",
        "        # TODO: Implement backward pass\n",
        "        # Your final implementation shouldn't have any loops\n",
        "        r = d_out.copy()\n",
        "        r[self.X <= 0] = 0\n",
        "        return r\n",
        "\n",
        "    def params(self):\n",
        "        # ReLU Doesn't have any parameters\n",
        "        return {}\n",
        "\n",
        "\n",
        "class FullyConnectedLayer:\n",
        "    def __init__(self, n_input, n_output):\n",
        "        self.W = Param(0.001 * np.random.randn(n_input, n_output))\n",
        "        self.B = Param(0.001 * np.random.randn(1, n_output))\n",
        "        self.X = None\n",
        "\n",
        "    def forward(self, X):\n",
        "        # TODO: Implement forward pass\n",
        "        # Your final implementation shouldn't have any loops\n",
        "        self.X = X\n",
        "        return self.X.dot(self.W.value) + self.B.value\n",
        "\n",
        "    def backward(self, d_out):\n",
        "        \"\"\"\n",
        "        Backward pass\n",
        "        Computes gradient with respect to input and\n",
        "        accumulates gradients within self.W and self.B\n",
        "        Arguments:\n",
        "        d_out, np array (batch_size, n_output) - gradient\n",
        "           of loss function with respect to output\n",
        "        Returns:\n",
        "        d_result: np array (batch_size, n_input) - gradient\n",
        "          with respect to input\n",
        "        \"\"\"\n",
        "        # TODO: Implement backward pass\n",
        "        # Compute both gradient with respect to input\n",
        "        # and gradients with respect to W and B\n",
        "        # Add gradients of W and B to their `grad` attribute\n",
        "\n",
        "        # It should be pretty similar to linear classifier from\n",
        "        # the previous assignment\n",
        "\n",
        "        self.W.grad += self.X.T.dot(d_out)\n",
        "        self.B.grad += d_out.sum(axis=0, keepdims=0)\n",
        "\n",
        "        return d_out.dot(self.W.value.T)\n",
        "\n",
        "    def params(self):\n",
        "        return {'W': self.W, 'B': self.B}"
      ]
    },
    {
      "cell_type": "code",
      "execution_count": null,
      "metadata": {
        "colab": {
          "base_uri": "https://localhost:8080/"
        },
        "id": "SNMspJbX3agl",
        "outputId": "57c48a05-a7b3-43a1-c79c-f6f4aabee20e"
      },
      "outputs": [
        {
          "name": "stdout",
          "output_type": "stream",
          "text": [
            "Gradient check passed!\n",
            "Gradient check passed!\n",
            "Gradient check passed!\n"
          ]
        }
      ],
      "source": [
        "# TODO: Implement FullyConnected layer forward and backward methods\n",
        "assert check_layer_gradient(FullyConnectedLayer(3, 4), X)\n",
        "# TODO: Implement storing gradients for W and B\n",
        "assert check_layer_param_gradient(FullyConnectedLayer(3, 4), X, 'W')\n",
        "assert check_layer_param_gradient(FullyConnectedLayer(3, 4), X, 'B')"
      ]
    },
    {
      "cell_type": "markdown",
      "metadata": {
        "id": "6Uv_ZbeJ3agl"
      },
      "source": [
        "## Создаем нейронную сеть\n",
        "\n",
        "Теперь мы реализуем простейшую нейронную сеть с двумя полносвязным слоями и нелинейностью ReLU. Реализуйте функцию `compute_loss_and_gradients`, она должна запустить прямой и обратный проход через оба слоя для вычисления градиентов.\n",
        "\n",
        "Не забудьте реализовать очистку градиентов в начале функции."
      ]
    },
    {
      "cell_type": "code",
      "execution_count": null,
      "metadata": {
        "id": "LCnKRUjWHv-c"
      },
      "outputs": [],
      "source": [
        "class TwoLayerNet:\n",
        "    \"\"\" Neural network with two fully connected layers \"\"\"\n",
        "\n",
        "    def __init__(self, n_input, n_output, hidden_layer_size, reg):\n",
        "        \"\"\"\n",
        "        Initializes the neural network\n",
        "        Arguments:\n",
        "        n_input, int - dimension of the model input\n",
        "        n_output, int - number of classes to predict\n",
        "        hidden_layer_size, int - number of neurons in the hidden layer\n",
        "        reg, float - L2 regularization strength\n",
        "        \"\"\"\n",
        "        self.reg = reg\n",
        "        # TODO Create necessary layers\n",
        "        self.input_layer = FullyConnectedLayer(n_input, hidden_layer_size)\n",
        "        self.relu = ReLULayer()\n",
        "        self.output_layer = FullyConnectedLayer(hidden_layer_size, n_output)\n",
        "\n",
        "        self.W_in = self.input_layer.params()['W']\n",
        "        self.B_in = self.input_layer.params()['B']\n",
        "\n",
        "        self.W_out = self.output_layer.params()['W']\n",
        "        self.B_out = self.output_layer.params()['B']\n",
        "\n",
        "    def compute_loss_and_gradients(self, X, y):\n",
        "        \"\"\"\n",
        "        Computes total loss and updates parameter gradients\n",
        "        on a batch of training examples\n",
        "        Arguments:\n",
        "        X, np array (batch_size, input_features) - input data\n",
        "        y, np array of int (batch_size) - classes\n",
        "        \"\"\"\n",
        "        # Before running forward and backward pass through the model,\n",
        "        # clear parameter gradients aggregated from the previous pass\n",
        "        # TODO Set parameter gradient to zeros\n",
        "        # Hint: using self.params() might be useful!\n",
        "        for p in self.params().values():\n",
        "            p.grad.fill(0)\n",
        "\n",
        "        # TODO Compute loss and fill param gradients\n",
        "        # by running forward and backward passes through the model\n",
        "\n",
        "        forward_input_layer = self.input_layer.forward(X)\n",
        "        forward_relu = self.relu.forward(forward_input_layer)\n",
        "        predictions = self.output_layer.forward(forward_relu)\n",
        "\n",
        "        loss, dprediction = softmax_with_cross_entropy(predictions, y)\n",
        "\n",
        "        backward_output_layer = self.output_layer.backward(dprediction)\n",
        "        backward_relu = self.relu.backward(backward_output_layer)\n",
        "        backward_input_layer = self.input_layer.backward(backward_relu)\n",
        "\n",
        "        # After that, implement l2 regularization on all params\n",
        "        # Hint: self.params() is useful again!\n",
        "\n",
        "        for p in self.params().values():\n",
        "            loss_l2, grad_l2 = l2_regularization(p.value, self.reg)\n",
        "            loss += loss_l2\n",
        "            p.grad += grad_l2\n",
        "\n",
        "        return loss\n",
        "\n",
        "    def predict(self, X):\n",
        "        \"\"\"\n",
        "        Produces classifier predictions on the set\n",
        "        Arguments:\n",
        "          X, np array (test_samples, num_features)\n",
        "        Returns:\n",
        "          y_pred, np.array of int (test_samples)\n",
        "        \"\"\"\n",
        "        # TODO: Implement predict\n",
        "        # Hint: some of the code of the compute_loss_and_gradients\n",
        "        # can be reused\n",
        "\n",
        "        forward_input_layer = self.input_layer.forward(X)\n",
        "        forward_relu = self.relu.forward(forward_input_layer)\n",
        "        predictions = self.output_layer.forward(forward_relu)\n",
        "\n",
        "        return np.argmax(predictions, axis=-1)\n",
        "\n",
        "    def params(self):\n",
        "        # TODO Implement aggregating all of the params\n",
        "\n",
        "        return {\n",
        "            'W_in': self.W_in,\n",
        "            'B_in': self.B_in,\n",
        "            'W_out': self.W_out,\n",
        "            'B_out': self.B_out,\n",
        "        }"
      ]
    },
    {
      "cell_type": "code",
      "execution_count": null,
      "metadata": {
        "colab": {
          "base_uri": "https://localhost:8080/"
        },
        "id": "u39ahoVt3agm",
        "outputId": "940547a7-de6c-429d-beb6-7e967f196061"
      },
      "outputs": [
        {
          "name": "stdout",
          "output_type": "stream",
          "text": [
            "Checking gradient for W_in\n",
            "Gradient check passed!\n",
            "Checking gradient for B_in\n",
            "Gradient check passed!\n",
            "Checking gradient for W_out\n",
            "Gradient check passed!\n",
            "Checking gradient for B_out\n",
            "Gradient check passed!\n"
          ]
        },
        {
          "data": {
            "text/plain": [
              "True"
            ]
          },
          "execution_count": 64,
          "metadata": {},
          "output_type": "execute_result"
        }
      ],
      "source": [
        "# TODO: In model.py, implement compute_loss_and_gradients function\n",
        "model = TwoLayerNet(n_input = train_X.shape[1], n_output = 10, hidden_layer_size = 3, reg = 0)\n",
        "loss = model.compute_loss_and_gradients(train_X[:2], train_y[:2])\n",
        "\n",
        "# TODO Now implement backward pass and aggregate all of the params\n",
        "check_model_gradient(model, train_X[:2], train_y[:2])"
      ]
    },
    {
      "cell_type": "markdown",
      "metadata": {
        "id": "n16DUvD73agm"
      },
      "source": [
        "Теперь добавьте к модели регуляризацию - она должна прибавляться к loss и делать свой вклад в градиенты."
      ]
    },
    {
      "cell_type": "code",
      "execution_count": null,
      "metadata": {
        "colab": {
          "base_uri": "https://localhost:8080/"
        },
        "id": "odB21f903agm",
        "outputId": "786600ae-06ab-49ec-c65a-7f30edf64dc8"
      },
      "outputs": [
        {
          "name": "stdout",
          "output_type": "stream",
          "text": [
            "Checking gradient for W_in\n",
            "Gradient check passed!\n",
            "Checking gradient for B_in\n",
            "Gradient check passed!\n",
            "Checking gradient for W_out\n",
            "Gradient check passed!\n",
            "Checking gradient for B_out\n",
            "Gradient check passed!\n"
          ]
        },
        {
          "data": {
            "text/plain": [
              "True"
            ]
          },
          "execution_count": 65,
          "metadata": {},
          "output_type": "execute_result"
        }
      ],
      "source": [
        "# TODO Now implement l2 regularization in the forward and backward pass\n",
        "model_with_reg = TwoLayerNet(n_input = train_X.shape[1], n_output = 10, hidden_layer_size = 3, reg = 1e1)\n",
        "loss_with_reg = model_with_reg.compute_loss_and_gradients(train_X[:2], train_y[:2])\n",
        "assert loss_with_reg > loss and not np.isclose(loss_with_reg, loss), \\\n",
        "    \"Loss with regularization (%2.4f) should be higher than without it (%2.4f)!\" % (loss, loss_with_reg)\n",
        "\n",
        "check_model_gradient(model_with_reg, train_X[:2], train_y[:2])"
      ]
    },
    {
      "cell_type": "markdown",
      "metadata": {
        "id": "IWuOT3EF3agn"
      },
      "source": [
        "Также реализуем функцию предсказания (вычисления значения) модели на новых данных.\n",
        "\n",
        "Какое значение точности мы ожидаем увидеть до начала тренировки?"
      ]
    },
    {
      "cell_type": "code",
      "execution_count": null,
      "metadata": {
        "id": "QXEWGWsrNr0Q"
      },
      "outputs": [],
      "source": [
        "def multiclass_accuracy(prediction, ground_truth):\n",
        "    \"\"\"\n",
        "    Computes metrics for multiclass classification\n",
        "    Arguments:\n",
        "    prediction, np array of int (num_samples) - model predictions\n",
        "    ground_truth, np array of int (num_samples) - true labels\n",
        "    Returns:\n",
        "    accuracy - ratio of accurate predictions to total samples\n",
        "    \"\"\"\n",
        "\n",
        "    # TODO: Implement computing accuracy\n",
        "\n",
        "    return sum(np.equal(prediction, ground_truth)) / len(ground_truth)"
      ]
    },
    {
      "cell_type": "code",
      "execution_count": null,
      "metadata": {
        "colab": {
          "base_uri": "https://localhost:8080/"
        },
        "id": "6PhA-3Ro3agn",
        "outputId": "e24acb1e-2434-4667-ed97-ff24556f4649"
      },
      "outputs": [
        {
          "data": {
            "text/plain": [
              "0.13333333333333333"
            ]
          },
          "execution_count": 68,
          "metadata": {},
          "output_type": "execute_result"
        }
      ],
      "source": [
        "# Finally, implement predict function!\n",
        "\n",
        "# TODO: Implement predict function\n",
        "# What would be the value we expect?\n",
        "multiclass_accuracy(model_with_reg.predict(train_X[:30]), train_y[:30]) "
      ]
    },
    {
      "cell_type": "markdown",
      "metadata": {
        "id": "Vg_wlO5p3agn"
      },
      "source": [
        "# Допишем код для процесса тренировки\n",
        "\n",
        "Если все реализовано корректно, значение функции ошибки должно уменьшаться с каждой эпохой, пусть и медленно. Не беспокойтесь пока про validation accuracy."
      ]
    },
    {
      "cell_type": "code",
      "execution_count": null,
      "metadata": {
        "id": "a-1LwUh0OSyY"
      },
      "outputs": [],
      "source": [
        "from copy import deepcopy\n",
        "\n",
        "\n",
        "class Dataset:\n",
        "    \"\"\"\n",
        "    Utility class to hold training and validation data\n",
        "    \"\"\"\n",
        "\n",
        "    def __init__(self, train_X, train_y, val_X, val_y):\n",
        "        self.train_X = train_X\n",
        "        self.train_y = train_y\n",
        "        self.val_X = val_X\n",
        "        self.val_y = val_y\n",
        "\n",
        "\n",
        "class Trainer:\n",
        "    \"\"\"\n",
        "    Trainer of the neural network models\n",
        "    Perform mini-batch SGD with the specified data, model,\n",
        "    training parameters and optimization rule\n",
        "    \"\"\"\n",
        "\n",
        "    def __init__(self, model, dataset, optim,\n",
        "                 num_epochs=20,\n",
        "                 batch_size=20,\n",
        "                 learning_rate=1e-2,\n",
        "                 learning_rate_decay=1.0):\n",
        "        \"\"\"\n",
        "        Initializes the trainer\n",
        "        Arguments:\n",
        "        model - neural network model\n",
        "        dataset, instance of Dataset class - data to train on\n",
        "        optim - optimization method (see optim.py)\n",
        "        num_epochs, int - number of epochs to train\n",
        "        batch_size, int - batch size\n",
        "        learning_rate, float - initial learning rate\n",
        "        learning_rate_decal, float - ratio for decaying learning rate\n",
        "           every epoch\n",
        "        \"\"\"\n",
        "        self.dataset = dataset\n",
        "        self.model = model\n",
        "        self.optim = optim\n",
        "        self.batch_size = batch_size\n",
        "        self.learning_rate = learning_rate\n",
        "        self.num_epochs = num_epochs\n",
        "        self.learning_rate_decay = learning_rate_decay\n",
        "\n",
        "        self.optimizers = None\n",
        "\n",
        "    def setup_optimizers(self):\n",
        "        params = self.model.params()\n",
        "        self.optimizers = {}\n",
        "        for param_name, param in params.items():\n",
        "            self.optimizers[param_name] = deepcopy(self.optim)\n",
        "\n",
        "    def compute_accuracy(self, X, y):\n",
        "        \"\"\"\n",
        "        Computes accuracy on provided data using mini-batches\n",
        "        \"\"\"\n",
        "        indices = np.arange(X.shape[0])\n",
        "        sections = np.arange(self.batch_size, X.shape[0], self.batch_size)\n",
        "        batches_indices = np.array_split(indices, sections)\n",
        "\n",
        "        pred = np.zeros_like(y)\n",
        "\n",
        "        for batch_indices in batches_indices:\n",
        "            batch_X = X[batch_indices]\n",
        "            pred_batch = self.model.predict(batch_X)\n",
        "            pred[batch_indices] = pred_batch\n",
        "\n",
        "        return multiclass_accuracy(pred, y)\n",
        "\n",
        "    def fit(self):\n",
        "        \"\"\"\n",
        "        Trains a model\n",
        "        \"\"\"\n",
        "        if self.optimizers is None:\n",
        "            self.setup_optimizers()\n",
        "\n",
        "        num_train = self.dataset.train_X.shape[0]\n",
        "\n",
        "        loss_history = []\n",
        "        train_acc_history = []\n",
        "        val_acc_history = []\n",
        "\n",
        "        for epoch in range(self.num_epochs):\n",
        "            shuffled_indices = np.arange(num_train)\n",
        "            np.random.shuffle(shuffled_indices)\n",
        "            sections = np.arange(self.batch_size, num_train, self.batch_size)\n",
        "            batches_indices = np.array_split(shuffled_indices, sections)\n",
        "\n",
        "            batch_losses = []\n",
        "\n",
        "            for batch_indices in batches_indices:\n",
        "                # TODO Generate batches based on batch_indices and\n",
        "                # use model to generate loss and gradients for all\n",
        "                # the params\n",
        "\n",
        "                batch_X = self.dataset.train_X[batch_indices]\n",
        "                batch_y = self.dataset.train_y[batch_indices]\n",
        "\n",
        "                loss = self.model.compute_loss_and_gradients(batch_X, batch_y)\n",
        "\n",
        "                for param_name, param in self.model.params().items():\n",
        "                    optimizer = self.optimizers[param_name]\n",
        "                    param.value = optimizer.update(param.value, param.grad, self.learning_rate)\n",
        "\n",
        "                batch_losses.append(loss)\n",
        "\n",
        "            # TODO: Implement learning rate decay\n",
        "            self.learning_rate *= self.learning_rate_decay\n",
        "\n",
        "            ave_loss = np.mean(batch_losses)\n",
        "\n",
        "            train_accuracy = self.compute_accuracy(self.dataset.train_X, self.dataset.train_y)\n",
        "\n",
        "            val_accuracy = self.compute_accuracy(self.dataset.val_X, self.dataset.val_y)\n",
        "\n",
        "            print(f'Epoch: {epoch}, '\n",
        "                  f'loss: {\"{:.6f}\".format(batch_losses[-1])}, '\n",
        "                  f'train accuracy: {\"{:.6f}\".format(train_accuracy)}, '\n",
        "                  f'val accuracy: {\"{:.6f}\".format(val_accuracy)}'\n",
        "                  )\n",
        "\n",
        "            loss_history.append(ave_loss)\n",
        "            train_acc_history.append(train_accuracy)\n",
        "            val_acc_history.append(val_accuracy)\n",
        "\n",
        "        return loss_history, train_acc_history, val_acc_history"
      ]
    },
    {
      "cell_type": "code",
      "execution_count": 128,
      "metadata": {
        "colab": {
          "base_uri": "https://localhost:8080/"
        },
        "id": "bUKhlY6W3agn",
        "outputId": "28c06c24-350b-4f8f-932e-983036f62769"
      },
      "outputs": [
        {
          "output_type": "stream",
          "name": "stdout",
          "text": [
            "Epoch: 0, loss: 2.302670, train accuracy: 0.196667, val accuracy: 0.206000\n",
            "Epoch: 1, loss: 2.302285, train accuracy: 0.196667, val accuracy: 0.206000\n",
            "Epoch: 2, loss: 2.302305, train accuracy: 0.196667, val accuracy: 0.206000\n",
            "Epoch: 3, loss: 2.302563, train accuracy: 0.196667, val accuracy: 0.206000\n",
            "Epoch: 4, loss: 2.302657, train accuracy: 0.196667, val accuracy: 0.206000\n",
            "Epoch: 5, loss: 2.301966, train accuracy: 0.196667, val accuracy: 0.206000\n",
            "Epoch: 6, loss: 2.302380, train accuracy: 0.196667, val accuracy: 0.206000\n",
            "Epoch: 7, loss: 2.301363, train accuracy: 0.196667, val accuracy: 0.206000\n",
            "Epoch: 8, loss: 2.301778, train accuracy: 0.196667, val accuracy: 0.206000\n",
            "Epoch: 9, loss: 2.301804, train accuracy: 0.196667, val accuracy: 0.206000\n",
            "Epoch: 10, loss: 2.302130, train accuracy: 0.196667, val accuracy: 0.206000\n",
            "Epoch: 11, loss: 2.302631, train accuracy: 0.196667, val accuracy: 0.206000\n",
            "Epoch: 12, loss: 2.302528, train accuracy: 0.196667, val accuracy: 0.206000\n",
            "Epoch: 13, loss: 2.302254, train accuracy: 0.196667, val accuracy: 0.206000\n",
            "Epoch: 14, loss: 2.301673, train accuracy: 0.196667, val accuracy: 0.206000\n",
            "Epoch: 15, loss: 2.302299, train accuracy: 0.196667, val accuracy: 0.206000\n",
            "Epoch: 16, loss: 2.302245, train accuracy: 0.196667, val accuracy: 0.206000\n",
            "Epoch: 17, loss: 2.302372, train accuracy: 0.196667, val accuracy: 0.206000\n",
            "Epoch: 18, loss: 2.302227, train accuracy: 0.196667, val accuracy: 0.206000\n",
            "Epoch: 19, loss: 2.302673, train accuracy: 0.196667, val accuracy: 0.206000\n"
          ]
        }
      ],
      "source": [
        "model = TwoLayerNet(n_input = train_X.shape[1], n_output = 10, hidden_layer_size = 100, reg = 1e1)\n",
        "dataset = Dataset(train_X, train_y, val_X, val_y)\n",
        "trainer = Trainer(model, dataset, SGD(), learning_rate = 1e-3)\n",
        "\n",
        "# TODO Implement missing pieces in Trainer.fit function\n",
        "# You should expect loss to go down every epoch, even if it's slow\n",
        "loss_history, train_history, val_history = trainer.fit()"
      ]
    },
    {
      "cell_type": "code",
      "execution_count": 129,
      "metadata": {
        "colab": {
          "base_uri": "https://localhost:8080/",
          "height": 282
        },
        "id": "lz4L0ofJ3ago",
        "outputId": "b6c7da73-2237-4021-f89b-c7ae4d30e190"
      },
      "outputs": [
        {
          "output_type": "execute_result",
          "data": {
            "text/plain": [
              "[<matplotlib.lines.Line2D at 0x7f29337b9dd0>]"
            ]
          },
          "metadata": {},
          "execution_count": 129
        },
        {
          "output_type": "display_data",
          "data": {
            "text/plain": [
              "<Figure size 432x288 with 1 Axes>"
            ],
            "image/png": "[encoded data removed]"
          },
          "metadata": {
            "needs_background": "light"
          }
        }
      ],
      "source": [
        "plt.plot(train_history)\n",
        "plt.plot(val_history)"
      ]
    },
    {
      "cell_type": "markdown",
      "metadata": {
        "id": "x9A8R9ta3ago"
      },
      "source": [
        "# Улучшаем процесс тренировки\n",
        "\n",
        "Мы реализуем несколько ключевых оптимизаций, необходимых для тренировки современных нейросетей."
      ]
    },
    {
      "cell_type": "markdown",
      "metadata": {
        "id": "bbFGJNFc3ago"
      },
      "source": [
        "## Уменьшение скорости обучения (learning rate decay)\n",
        "\n",
        "Одна из необходимых оптимизаций во время тренировки нейронных сетей - постепенное уменьшение скорости обучения по мере тренировки.\n",
        "\n",
        "Один из стандартных методов - уменьшение скорости обучения (learning rate) каждые N эпох на коэффициент d (часто называемый decay). Значения N и d, как всегда, являются гиперпараметрами и должны подбираться на основе эффективности на проверочных данных (validation data). \n",
        "\n",
        "В нашем случае N будет равным 1."
      ]
    },
    {
      "cell_type": "code",
      "execution_count": 130,
      "metadata": {
        "id": "yp7TJ9lO3ago",
        "colab": {
          "base_uri": "https://localhost:8080/"
        },
        "outputId": "89c5ea95-0cda-4377-b343-cc5161225b2d"
      },
      "outputs": [
        {
          "output_type": "stream",
          "name": "stdout",
          "text": [
            "Epoch: 0, loss: 2.295309, train accuracy: 0.196667, val accuracy: 0.206000\n",
            "Epoch: 1, loss: 2.254612, train accuracy: 0.196667, val accuracy: 0.206000\n",
            "Epoch: 2, loss: 2.315275, train accuracy: 0.196667, val accuracy: 0.206000\n",
            "Epoch: 3, loss: 2.274441, train accuracy: 0.196667, val accuracy: 0.206000\n",
            "Epoch: 4, loss: 2.259460, train accuracy: 0.196667, val accuracy: 0.206000\n",
            "Epoch: 5, loss: 2.287047, train accuracy: 0.196667, val accuracy: 0.206000\n",
            "Epoch: 6, loss: 2.196892, train accuracy: 0.196667, val accuracy: 0.206000\n",
            "Epoch: 7, loss: 2.267013, train accuracy: 0.196667, val accuracy: 0.206000\n",
            "Epoch: 8, loss: 2.323265, train accuracy: 0.196667, val accuracy: 0.206000\n",
            "Epoch: 9, loss: 2.328419, train accuracy: 0.196667, val accuracy: 0.206000\n",
            "Epoch: 10, loss: 2.352009, train accuracy: 0.196667, val accuracy: 0.206000\n",
            "Epoch: 11, loss: 2.092648, train accuracy: 0.196667, val accuracy: 0.206000\n",
            "Epoch: 12, loss: 2.291146, train accuracy: 0.196667, val accuracy: 0.206000\n",
            "Epoch: 13, loss: 2.250728, train accuracy: 0.196667, val accuracy: 0.206000\n",
            "Epoch: 14, loss: 2.169802, train accuracy: 0.196667, val accuracy: 0.206000\n",
            "Epoch: 15, loss: 2.222357, train accuracy: 0.196667, val accuracy: 0.206000\n",
            "Epoch: 16, loss: 2.343212, train accuracy: 0.196667, val accuracy: 0.206000\n",
            "Epoch: 17, loss: 2.317394, train accuracy: 0.196667, val accuracy: 0.206000\n",
            "Epoch: 18, loss: 2.347696, train accuracy: 0.196667, val accuracy: 0.206000\n",
            "Epoch: 19, loss: 2.322117, train accuracy: 0.196667, val accuracy: 0.206000\n"
          ]
        }
      ],
      "source": [
        "# TODO Implement learning rate decay inside Trainer.fit method\n",
        "# Decay should happen once per epoch\n",
        "\n",
        "model = TwoLayerNet(n_input = train_X.shape[1], n_output = 10, hidden_layer_size = 100, reg = 1e-1)\n",
        "dataset = Dataset(train_X, train_y, val_X, val_y)\n",
        "trainer = Trainer(model, dataset, SGD(), learning_rate_decay=0.99)\n",
        "\n",
        "initial_learning_rate = trainer.learning_rate\n",
        "loss_history, train_history, val_history = trainer.fit()\n",
        "\n",
        "assert trainer.learning_rate < initial_learning_rate, \"Learning rate should've been reduced\"\n",
        "assert trainer.learning_rate > 0.5*initial_learning_rate, \"Learning rate shouldn'tve been reduced that much!\""
      ]
    },
    {
      "cell_type": "markdown",
      "metadata": {
        "id": "ppZGkhtE3agp"
      },
      "source": [
        "# Накопление импульса (Momentum SGD)\n",
        "\n",
        "Другой большой класс оптимизаций - использование более эффективных методов градиентного спуска. Мы реализуем один из них - накопление импульса (Momentum SGD).\n",
        "\n",
        "Этот метод хранит скорость движения, использует градиент для ее изменения на каждом шаге, и изменяет веса пропорционально значению скорости.\n",
        "(Физическая аналогия: Вместо скорости градиенты теперь будут задавать ускорение, но будет присутствовать сила трения.)\n",
        "\n",
        "```\n",
        "velocity = momentum * velocity - learning_rate * gradient \n",
        "w = w + velocity\n",
        "```\n",
        "\n",
        "`momentum` здесь коэффициент затухания, который тоже является гиперпараметром (к счастью, для него часто есть хорошее значение по умолчанию, типичный диапазон -- 0.8-0.99).\n",
        "\n",
        "Несколько полезных ссылок, где метод разбирается более подробно:  \n",
        "http://cs231n.github.io/neural-networks-3/#sgd  \n",
        "https://distill.pub/2017/momentum/"
      ]
    },
    {
      "cell_type": "code",
      "source": [
        "class MomentumSGD:\n",
        "    \"\"\"\n",
        "    Implements Momentum SGD update\n",
        "    \"\"\"\n",
        "    def __init__(self, momentum=0.9):\n",
        "        self.momentum = momentum\n",
        "        self.velocity = 0\n",
        "    \n",
        "    def update(self, w, d_w, learning_rate):\n",
        "        \"\"\"\n",
        "        Performs Momentum SGD update\n",
        "        Arguments:\n",
        "        w, np array - weights\n",
        "        d_w, np array, same shape as w - gradient\n",
        "        learning_rate, float - learning rate\n",
        "        Returns:\n",
        "        updated_weights, np array same shape as w\n",
        "        \"\"\"\n",
        "        # TODO Implement momentum update\n",
        "        # Hint: you'll need to introduce some variables to remember\n",
        "        # velocity from the previous updates\n",
        "\n",
        "        self.velocity = self.momentum * self.velocity - d_w * learning_rate\n",
        "\n",
        "        return w + self.velocity"
      ],
      "metadata": {
        "id": "9qSxd5veNOV6"
      },
      "execution_count": 131,
      "outputs": []
    },
    {
      "cell_type": "code",
      "execution_count": 132,
      "metadata": {
        "id": "gncaEWo43agp",
        "colab": {
          "base_uri": "https://localhost:8080/"
        },
        "outputId": "08dcd879-bdce-488f-8af6-132f93493e51"
      },
      "outputs": [
        {
          "output_type": "stream",
          "name": "stdout",
          "text": [
            "Epoch: 0, loss: 2.322207, train accuracy: 0.196667, val accuracy: 0.206000\n",
            "Epoch: 1, loss: 2.305562, train accuracy: 0.196667, val accuracy: 0.206000\n",
            "Epoch: 2, loss: 2.312147, train accuracy: 0.196667, val accuracy: 0.206000\n",
            "Epoch: 3, loss: 2.281875, train accuracy: 0.196667, val accuracy: 0.206000\n",
            "Epoch: 4, loss: 2.287471, train accuracy: 0.196667, val accuracy: 0.206000\n",
            "Epoch: 5, loss: 2.291925, train accuracy: 0.196667, val accuracy: 0.206000\n",
            "Epoch: 6, loss: 2.295284, train accuracy: 0.196667, val accuracy: 0.206000\n",
            "Epoch: 7, loss: 2.282446, train accuracy: 0.196667, val accuracy: 0.206000\n",
            "Epoch: 8, loss: 2.330917, train accuracy: 0.196667, val accuracy: 0.206000\n",
            "Epoch: 9, loss: 2.298601, train accuracy: 0.196667, val accuracy: 0.206000\n",
            "Epoch: 10, loss: 2.282478, train accuracy: 0.196667, val accuracy: 0.206000\n",
            "Epoch: 11, loss: 2.271572, train accuracy: 0.196667, val accuracy: 0.206000\n",
            "Epoch: 12, loss: 2.284701, train accuracy: 0.196667, val accuracy: 0.206000\n",
            "Epoch: 13, loss: 2.303934, train accuracy: 0.196667, val accuracy: 0.206000\n",
            "Epoch: 14, loss: 2.245462, train accuracy: 0.196667, val accuracy: 0.206000\n",
            "Epoch: 15, loss: 2.288840, train accuracy: 0.196667, val accuracy: 0.206000\n",
            "Epoch: 16, loss: 2.284075, train accuracy: 0.196667, val accuracy: 0.206000\n",
            "Epoch: 17, loss: 2.262612, train accuracy: 0.196667, val accuracy: 0.206000\n",
            "Epoch: 18, loss: 2.310048, train accuracy: 0.196667, val accuracy: 0.206000\n",
            "Epoch: 19, loss: 2.281977, train accuracy: 0.196667, val accuracy: 0.206000\n"
          ]
        }
      ],
      "source": [
        "# TODO: Implement MomentumSGD.update function in optim.py\n",
        "\n",
        "model = TwoLayerNet(n_input = train_X.shape[1], n_output = 10, hidden_layer_size = 100, reg = 1e-1)\n",
        "dataset = Dataset(train_X, train_y, val_X, val_y)\n",
        "trainer = Trainer(model, dataset, MomentumSGD(), learning_rate=1e-4, learning_rate_decay=0.99)\n",
        "\n",
        "# You should see even better results than before!\n",
        "loss_history, train_history, val_history = trainer.fit()"
      ]
    },
    {
      "cell_type": "markdown",
      "metadata": {
        "id": "ofalk1bQ3agp"
      },
      "source": [
        "# Ну что, давайте уже тренировать сеть!"
      ]
    },
    {
      "cell_type": "markdown",
      "metadata": {
        "id": "BmfLX9603agp"
      },
      "source": [
        "## Последний тест - переобучимся (overfit) на маленьком наборе данных\n",
        "\n",
        "Хороший способ проверить, все ли реализовано корректно - переобучить сеть на маленьком наборе данных.  \n",
        "Наша модель обладает достаточной мощностью, чтобы приблизить маленький набор данных идеально, поэтому мы ожидаем, что на нем мы быстро дойдем до 100% точности на тренировочном наборе. \n",
        "\n",
        "Если этого не происходит, то где-то была допущена ошибка!"
      ]
    },
    {
      "cell_type": "code",
      "execution_count": 133,
      "metadata": {
        "id": "CB-_nxDv3agq",
        "colab": {
          "base_uri": "https://localhost:8080/"
        },
        "outputId": "28b97ab1-b42a-477a-c051-c9c90204b925"
      },
      "outputs": [
        {
          "output_type": "stream",
          "name": "stdout",
          "text": [
            "Epoch: 0, loss: 2.335821, train accuracy: 0.200000, val accuracy: 0.066667\n",
            "Epoch: 1, loss: 2.336464, train accuracy: 0.200000, val accuracy: 0.066667\n",
            "Epoch: 2, loss: 2.295228, train accuracy: 0.333333, val accuracy: 0.066667\n",
            "Epoch: 3, loss: 2.279056, train accuracy: 0.200000, val accuracy: 0.066667\n",
            "Epoch: 4, loss: 2.285170, train accuracy: 0.266667, val accuracy: 0.000000\n",
            "Epoch: 5, loss: 2.263880, train accuracy: 0.266667, val accuracy: 0.000000\n",
            "Epoch: 6, loss: 2.231426, train accuracy: 0.266667, val accuracy: 0.000000\n",
            "Epoch: 7, loss: 2.278779, train accuracy: 0.266667, val accuracy: 0.000000\n",
            "Epoch: 8, loss: 2.282354, train accuracy: 0.400000, val accuracy: 0.000000\n",
            "Epoch: 9, loss: 2.246044, train accuracy: 0.400000, val accuracy: 0.000000\n",
            "Epoch: 10, loss: 2.084230, train accuracy: 0.400000, val accuracy: 0.000000\n",
            "Epoch: 11, loss: 2.021328, train accuracy: 0.400000, val accuracy: 0.000000\n",
            "Epoch: 12, loss: 1.981028, train accuracy: 0.333333, val accuracy: 0.000000\n",
            "Epoch: 13, loss: 2.370104, train accuracy: 0.333333, val accuracy: 0.000000\n",
            "Epoch: 14, loss: 1.474613, train accuracy: 0.333333, val accuracy: 0.000000\n",
            "Epoch: 15, loss: 2.109365, train accuracy: 0.400000, val accuracy: 0.000000\n",
            "Epoch: 16, loss: 1.828111, train accuracy: 0.400000, val accuracy: 0.000000\n",
            "Epoch: 17, loss: 2.464465, train accuracy: 0.400000, val accuracy: 0.000000\n",
            "Epoch: 18, loss: 1.520504, train accuracy: 0.400000, val accuracy: 0.000000\n",
            "Epoch: 19, loss: 1.592158, train accuracy: 0.400000, val accuracy: 0.000000\n",
            "Epoch: 20, loss: 1.827717, train accuracy: 0.400000, val accuracy: 0.000000\n",
            "Epoch: 21, loss: 2.334058, train accuracy: 0.466667, val accuracy: 0.066667\n",
            "Epoch: 22, loss: 2.353732, train accuracy: 0.466667, val accuracy: 0.000000\n",
            "Epoch: 23, loss: 1.709371, train accuracy: 0.400000, val accuracy: 0.066667\n",
            "Epoch: 24, loss: 1.571413, train accuracy: 0.466667, val accuracy: 0.000000\n",
            "Epoch: 25, loss: 2.079682, train accuracy: 0.466667, val accuracy: 0.066667\n",
            "Epoch: 26, loss: 2.142111, train accuracy: 0.533333, val accuracy: 0.066667\n",
            "Epoch: 27, loss: 1.835104, train accuracy: 0.466667, val accuracy: 0.066667\n",
            "Epoch: 28, loss: 2.006710, train accuracy: 0.466667, val accuracy: 0.066667\n",
            "Epoch: 29, loss: 1.977381, train accuracy: 0.466667, val accuracy: 0.066667\n",
            "Epoch: 30, loss: 2.191123, train accuracy: 0.466667, val accuracy: 0.000000\n",
            "Epoch: 31, loss: 1.402382, train accuracy: 0.466667, val accuracy: 0.066667\n",
            "Epoch: 32, loss: 1.780685, train accuracy: 0.533333, val accuracy: 0.066667\n",
            "Epoch: 33, loss: 1.396967, train accuracy: 0.533333, val accuracy: 0.066667\n",
            "Epoch: 34, loss: 1.673215, train accuracy: 0.600000, val accuracy: 0.066667\n",
            "Epoch: 35, loss: 2.183524, train accuracy: 0.533333, val accuracy: 0.066667\n",
            "Epoch: 36, loss: 1.459016, train accuracy: 0.533333, val accuracy: 0.000000\n",
            "Epoch: 37, loss: 2.350079, train accuracy: 0.600000, val accuracy: 0.066667\n",
            "Epoch: 38, loss: 1.125837, train accuracy: 0.600000, val accuracy: 0.066667\n",
            "Epoch: 39, loss: 1.533345, train accuracy: 0.600000, val accuracy: 0.000000\n",
            "Epoch: 40, loss: 1.603820, train accuracy: 0.666667, val accuracy: 0.066667\n",
            "Epoch: 41, loss: 1.260938, train accuracy: 0.666667, val accuracy: 0.066667\n",
            "Epoch: 42, loss: 1.398117, train accuracy: 0.666667, val accuracy: 0.066667\n",
            "Epoch: 43, loss: 1.793744, train accuracy: 0.666667, val accuracy: 0.066667\n",
            "Epoch: 44, loss: 1.338260, train accuracy: 0.666667, val accuracy: 0.066667\n",
            "Epoch: 45, loss: 2.161183, train accuracy: 0.666667, val accuracy: 0.066667\n",
            "Epoch: 46, loss: 1.292675, train accuracy: 0.666667, val accuracy: 0.000000\n",
            "Epoch: 47, loss: 1.508914, train accuracy: 0.666667, val accuracy: 0.066667\n",
            "Epoch: 48, loss: 1.637823, train accuracy: 0.733333, val accuracy: 0.066667\n",
            "Epoch: 49, loss: 1.350498, train accuracy: 0.600000, val accuracy: 0.066667\n",
            "Epoch: 50, loss: 0.953936, train accuracy: 0.666667, val accuracy: 0.066667\n",
            "Epoch: 51, loss: 1.491992, train accuracy: 0.666667, val accuracy: 0.133333\n",
            "Epoch: 52, loss: 1.661981, train accuracy: 0.733333, val accuracy: 0.066667\n",
            "Epoch: 53, loss: 1.736327, train accuracy: 0.733333, val accuracy: 0.133333\n",
            "Epoch: 54, loss: 1.521500, train accuracy: 0.733333, val accuracy: 0.066667\n",
            "Epoch: 55, loss: 1.699028, train accuracy: 0.733333, val accuracy: 0.066667\n",
            "Epoch: 56, loss: 2.069429, train accuracy: 0.733333, val accuracy: 0.066667\n",
            "Epoch: 57, loss: 1.240860, train accuracy: 0.733333, val accuracy: 0.066667\n",
            "Epoch: 58, loss: 2.003166, train accuracy: 0.733333, val accuracy: 0.133333\n",
            "Epoch: 59, loss: 1.536247, train accuracy: 0.733333, val accuracy: 0.133333\n",
            "Epoch: 60, loss: 1.226104, train accuracy: 0.800000, val accuracy: 0.066667\n",
            "Epoch: 61, loss: 1.324674, train accuracy: 0.800000, val accuracy: 0.133333\n",
            "Epoch: 62, loss: 1.318346, train accuracy: 0.800000, val accuracy: 0.066667\n",
            "Epoch: 63, loss: 1.526520, train accuracy: 0.800000, val accuracy: 0.066667\n",
            "Epoch: 64, loss: 1.689462, train accuracy: 0.800000, val accuracy: 0.000000\n",
            "Epoch: 65, loss: 2.236853, train accuracy: 0.800000, val accuracy: 0.066667\n",
            "Epoch: 66, loss: 1.479916, train accuracy: 0.800000, val accuracy: 0.066667\n",
            "Epoch: 67, loss: 1.683291, train accuracy: 0.800000, val accuracy: 0.066667\n",
            "Epoch: 68, loss: 1.401988, train accuracy: 0.800000, val accuracy: 0.066667\n",
            "Epoch: 69, loss: 1.613544, train accuracy: 0.800000, val accuracy: 0.066667\n",
            "Epoch: 70, loss: 1.325859, train accuracy: 0.800000, val accuracy: 0.066667\n",
            "Epoch: 71, loss: 1.330843, train accuracy: 0.800000, val accuracy: 0.066667\n",
            "Epoch: 72, loss: 1.236715, train accuracy: 0.800000, val accuracy: 0.066667\n",
            "Epoch: 73, loss: 1.203392, train accuracy: 0.800000, val accuracy: 0.066667\n",
            "Epoch: 74, loss: 1.671326, train accuracy: 0.800000, val accuracy: 0.066667\n",
            "Epoch: 75, loss: 1.594131, train accuracy: 0.800000, val accuracy: 0.066667\n",
            "Epoch: 76, loss: 1.344221, train accuracy: 0.800000, val accuracy: 0.066667\n",
            "Epoch: 77, loss: 1.479204, train accuracy: 0.800000, val accuracy: 0.000000\n",
            "Epoch: 78, loss: 1.085193, train accuracy: 0.800000, val accuracy: 0.000000\n",
            "Epoch: 79, loss: 0.947806, train accuracy: 0.800000, val accuracy: 0.000000\n",
            "Epoch: 80, loss: 1.451013, train accuracy: 0.800000, val accuracy: 0.000000\n",
            "Epoch: 81, loss: 1.331704, train accuracy: 0.800000, val accuracy: 0.000000\n",
            "Epoch: 82, loss: 1.379418, train accuracy: 0.800000, val accuracy: 0.000000\n",
            "Epoch: 83, loss: 2.059189, train accuracy: 0.800000, val accuracy: 0.000000\n",
            "Epoch: 84, loss: 1.344211, train accuracy: 0.800000, val accuracy: 0.000000\n",
            "Epoch: 85, loss: 1.665988, train accuracy: 0.800000, val accuracy: 0.000000\n",
            "Epoch: 86, loss: 1.418788, train accuracy: 0.800000, val accuracy: 0.000000\n",
            "Epoch: 87, loss: 1.668223, train accuracy: 0.800000, val accuracy: 0.000000\n",
            "Epoch: 88, loss: 1.889122, train accuracy: 0.800000, val accuracy: 0.000000\n",
            "Epoch: 89, loss: 1.279486, train accuracy: 0.800000, val accuracy: 0.000000\n",
            "Epoch: 90, loss: 1.170461, train accuracy: 0.800000, val accuracy: 0.000000\n",
            "Epoch: 91, loss: 1.420741, train accuracy: 0.866667, val accuracy: 0.000000\n",
            "Epoch: 92, loss: 1.192341, train accuracy: 0.800000, val accuracy: 0.000000\n",
            "Epoch: 93, loss: 1.511670, train accuracy: 0.933333, val accuracy: 0.000000\n",
            "Epoch: 94, loss: 1.033806, train accuracy: 0.933333, val accuracy: 0.000000\n",
            "Epoch: 95, loss: 1.279162, train accuracy: 0.933333, val accuracy: 0.000000\n",
            "Epoch: 96, loss: 1.402222, train accuracy: 0.933333, val accuracy: 0.000000\n",
            "Epoch: 97, loss: 0.948651, train accuracy: 0.933333, val accuracy: 0.000000\n",
            "Epoch: 98, loss: 1.384973, train accuracy: 0.933333, val accuracy: 0.000000\n",
            "Epoch: 99, loss: 1.418985, train accuracy: 0.933333, val accuracy: 0.000000\n",
            "Epoch: 100, loss: 1.635383, train accuracy: 0.933333, val accuracy: 0.000000\n",
            "Epoch: 101, loss: 1.534292, train accuracy: 0.933333, val accuracy: 0.000000\n",
            "Epoch: 102, loss: 1.045888, train accuracy: 0.933333, val accuracy: 0.000000\n",
            "Epoch: 103, loss: 1.526229, train accuracy: 0.933333, val accuracy: 0.000000\n",
            "Epoch: 104, loss: 1.769138, train accuracy: 0.933333, val accuracy: 0.000000\n",
            "Epoch: 105, loss: 1.066875, train accuracy: 0.933333, val accuracy: 0.000000\n",
            "Epoch: 106, loss: 1.089929, train accuracy: 0.933333, val accuracy: 0.000000\n",
            "Epoch: 107, loss: 1.483974, train accuracy: 0.933333, val accuracy: 0.000000\n",
            "Epoch: 108, loss: 1.243191, train accuracy: 0.933333, val accuracy: 0.000000\n",
            "Epoch: 109, loss: 1.281256, train accuracy: 0.933333, val accuracy: 0.000000\n",
            "Epoch: 110, loss: 1.061273, train accuracy: 0.933333, val accuracy: 0.000000\n",
            "Epoch: 111, loss: 1.281814, train accuracy: 0.933333, val accuracy: 0.000000\n",
            "Epoch: 112, loss: 1.441965, train accuracy: 0.933333, val accuracy: 0.000000\n",
            "Epoch: 113, loss: 1.110291, train accuracy: 0.933333, val accuracy: 0.000000\n",
            "Epoch: 114, loss: 1.243326, train accuracy: 0.933333, val accuracy: 0.000000\n",
            "Epoch: 115, loss: 1.399829, train accuracy: 0.933333, val accuracy: 0.000000\n",
            "Epoch: 116, loss: 1.086163, train accuracy: 0.933333, val accuracy: 0.000000\n",
            "Epoch: 117, loss: 1.313868, train accuracy: 0.933333, val accuracy: 0.000000\n",
            "Epoch: 118, loss: 1.234330, train accuracy: 0.933333, val accuracy: 0.000000\n",
            "Epoch: 119, loss: 1.233903, train accuracy: 1.000000, val accuracy: 0.000000\n",
            "Epoch: 120, loss: 1.269580, train accuracy: 1.000000, val accuracy: 0.000000\n",
            "Epoch: 121, loss: 1.380817, train accuracy: 1.000000, val accuracy: 0.000000\n",
            "Epoch: 122, loss: 1.388071, train accuracy: 1.000000, val accuracy: 0.000000\n",
            "Epoch: 123, loss: 1.028628, train accuracy: 1.000000, val accuracy: 0.000000\n",
            "Epoch: 124, loss: 1.194766, train accuracy: 1.000000, val accuracy: 0.000000\n",
            "Epoch: 125, loss: 1.304665, train accuracy: 1.000000, val accuracy: 0.000000\n",
            "Epoch: 126, loss: 1.282250, train accuracy: 1.000000, val accuracy: 0.000000\n",
            "Epoch: 127, loss: 1.417781, train accuracy: 1.000000, val accuracy: 0.000000\n",
            "Epoch: 128, loss: 1.191691, train accuracy: 1.000000, val accuracy: 0.000000\n",
            "Epoch: 129, loss: 1.399456, train accuracy: 1.000000, val accuracy: 0.000000\n",
            "Epoch: 130, loss: 1.102942, train accuracy: 1.000000, val accuracy: 0.000000\n",
            "Epoch: 131, loss: 1.359230, train accuracy: 1.000000, val accuracy: 0.000000\n",
            "Epoch: 132, loss: 1.390727, train accuracy: 1.000000, val accuracy: 0.000000\n",
            "Epoch: 133, loss: 1.415042, train accuracy: 1.000000, val accuracy: 0.000000\n",
            "Epoch: 134, loss: 1.168363, train accuracy: 1.000000, val accuracy: 0.000000\n",
            "Epoch: 135, loss: 1.110167, train accuracy: 1.000000, val accuracy: 0.000000\n",
            "Epoch: 136, loss: 1.261038, train accuracy: 1.000000, val accuracy: 0.000000\n",
            "Epoch: 137, loss: 1.414528, train accuracy: 1.000000, val accuracy: 0.000000\n",
            "Epoch: 138, loss: 1.441156, train accuracy: 1.000000, val accuracy: 0.000000\n",
            "Epoch: 139, loss: 1.098176, train accuracy: 1.000000, val accuracy: 0.000000\n",
            "Epoch: 140, loss: 1.257759, train accuracy: 1.000000, val accuracy: 0.000000\n",
            "Epoch: 141, loss: 1.379033, train accuracy: 1.000000, val accuracy: 0.000000\n",
            "Epoch: 142, loss: 1.657464, train accuracy: 1.000000, val accuracy: 0.000000\n",
            "Epoch: 143, loss: 1.338941, train accuracy: 1.000000, val accuracy: 0.000000\n",
            "Epoch: 144, loss: 1.517630, train accuracy: 1.000000, val accuracy: 0.000000\n",
            "Epoch: 145, loss: 1.103833, train accuracy: 1.000000, val accuracy: 0.000000\n",
            "Epoch: 146, loss: 1.241927, train accuracy: 1.000000, val accuracy: 0.000000\n",
            "Epoch: 147, loss: 1.058143, train accuracy: 1.000000, val accuracy: 0.000000\n",
            "Epoch: 148, loss: 1.556551, train accuracy: 1.000000, val accuracy: 0.000000\n",
            "Epoch: 149, loss: 1.274176, train accuracy: 1.000000, val accuracy: 0.000000\n"
          ]
        }
      ],
      "source": [
        "data_size = 15\n",
        "model = TwoLayerNet(n_input = train_X.shape[1], n_output = 10, hidden_layer_size = 100, reg = 1e-1)\n",
        "dataset = Dataset(train_X[:data_size], train_y[:data_size], val_X[:data_size], val_y[:data_size])\n",
        "trainer = Trainer(model, dataset, SGD(), learning_rate=1e-1, num_epochs=150, batch_size=5)\n",
        "\n",
        "# You should expect this to reach 1.0 training accuracy \n",
        "loss_history, train_history, val_history = trainer.fit()"
      ]
    },
    {
      "cell_type": "markdown",
      "metadata": {
        "id": "QisVPthC3agq"
      },
      "source": [
        "Теперь найдем гипепараметры, для которых этот процесс сходится быстрее.\n",
        "Если все реализовано корректно, то существуют параметры, при которых процесс сходится в **20** эпох или еще быстрее.\n",
        "Найдите их!"
      ]
    },
    {
      "cell_type": "code",
      "execution_count": 134,
      "metadata": {
        "id": "aj9Y9WsN3agq",
        "colab": {
          "base_uri": "https://localhost:8080/"
        },
        "outputId": "7205637e-1087-4a9f-eecc-c7d3968ba1e6"
      },
      "outputs": [
        {
          "output_type": "stream",
          "name": "stdout",
          "text": [
            "Epoch: 0, loss: 2.320141, train accuracy: 0.266667, val accuracy: 0.066667\n",
            "Epoch: 1, loss: 2.216322, train accuracy: 0.200000, val accuracy: 0.066667\n",
            "Epoch: 2, loss: 2.445361, train accuracy: 0.333333, val accuracy: 0.066667\n",
            "Epoch: 3, loss: 2.343844, train accuracy: 0.400000, val accuracy: 0.000000\n",
            "Epoch: 4, loss: 2.197360, train accuracy: 0.333333, val accuracy: 0.133333\n",
            "Epoch: 5, loss: 2.140217, train accuracy: 0.400000, val accuracy: 0.000000\n",
            "Epoch: 6, loss: 1.558163, train accuracy: 0.533333, val accuracy: 0.133333\n",
            "Epoch: 7, loss: 2.377700, train accuracy: 0.600000, val accuracy: 0.000000\n",
            "Epoch: 8, loss: 1.798986, train accuracy: 0.600000, val accuracy: 0.133333\n",
            "Epoch: 9, loss: 0.139595, train accuracy: 0.533333, val accuracy: 0.066667\n",
            "Epoch: 10, loss: 0.093301, train accuracy: 0.733333, val accuracy: 0.000000\n",
            "Epoch: 11, loss: 0.083112, train accuracy: 0.800000, val accuracy: 0.000000\n",
            "Epoch: 12, loss: 0.031759, train accuracy: 0.800000, val accuracy: 0.133333\n",
            "Epoch: 13, loss: 0.018033, train accuracy: 0.800000, val accuracy: 0.133333\n",
            "Epoch: 14, loss: 1.200484, train accuracy: 0.800000, val accuracy: 0.000000\n",
            "Epoch: 15, loss: 0.222009, train accuracy: 0.933333, val accuracy: 0.066667\n",
            "Epoch: 16, loss: 0.859929, train accuracy: 0.933333, val accuracy: 0.000000\n",
            "Epoch: 17, loss: 0.573076, train accuracy: 1.000000, val accuracy: 0.000000\n",
            "Epoch: 18, loss: 0.050690, train accuracy: 1.000000, val accuracy: 0.000000\n",
            "Epoch: 19, loss: 0.336544, train accuracy: 1.000000, val accuracy: 0.000000\n"
          ]
        }
      ],
      "source": [
        "# Now, tweak some hyper parameters and make it train to 1.0 accuracy in 20 epochs or less\n",
        "\n",
        "model = TwoLayerNet(n_input = train_X.shape[1], n_output = 10, hidden_layer_size = 400, reg = 1e-3)\n",
        "dataset = Dataset(train_X[:data_size], train_y[:data_size], val_X[:data_size], val_y[:data_size])\n",
        "# TODO: Change any hyperparamers or optimizators to reach training accuracy in 20 epochs\n",
        "trainer = Trainer(model, dataset, SGD(), learning_rate=1e-1, num_epochs=20, batch_size=2)\n",
        "\n",
        "loss_history, train_history, val_history = trainer.fit()"
      ]
    },
    {
      "cell_type": "markdown",
      "metadata": {
        "id": "UP9k-alE3agq"
      },
      "source": [
        "# Итак, основное мероприятие!\n",
        "\n",
        "Натренируйте лучшую нейросеть! Можно добавлять и изменять параметры, менять количество нейронов в слоях сети и как угодно экспериментировать. \n",
        "\n",
        "Добейтесь точности лучше **60%** на validation set."
      ]
    },
    {
      "cell_type": "code",
      "execution_count": 135,
      "metadata": {
        "id": "P83eRTag3agr",
        "scrolled": true,
        "colab": {
          "base_uri": "https://localhost:8080/"
        },
        "outputId": "04093d09-7ede-4520-a24f-8afb9b055914"
      },
      "outputs": [
        {
          "output_type": "stream",
          "name": "stdout",
          "text": [
            "Epoch: 0, loss: 2.226307, train accuracy: 0.196667, val accuracy: 0.206000\n",
            "Epoch: 1, loss: 2.031843, train accuracy: 0.196667, val accuracy: 0.206000\n",
            "Epoch: 2, loss: 1.907048, train accuracy: 0.313889, val accuracy: 0.322000\n",
            "Epoch: 3, loss: 1.802091, train accuracy: 0.432667, val accuracy: 0.438000\n",
            "Epoch: 4, loss: 1.551115, train accuracy: 0.535111, val accuracy: 0.533000\n",
            "Epoch: 5, loss: 1.690280, train accuracy: 0.606889, val accuracy: 0.594000\n",
            "Epoch: 6, loss: 1.192438, train accuracy: 0.655111, val accuracy: 0.643000\n",
            "Epoch: 7, loss: 1.082381, train accuracy: 0.661333, val accuracy: 0.631000\n",
            "Epoch: 8, loss: 1.217155, train accuracy: 0.700556, val accuracy: 0.671000\n",
            "Epoch: 9, loss: 1.060865, train accuracy: 0.704000, val accuracy: 0.664000\n",
            "Epoch: 10, loss: 0.890894, train accuracy: 0.716667, val accuracy: 0.681000\n",
            "Epoch: 11, loss: 1.202148, train accuracy: 0.727778, val accuracy: 0.691000\n",
            "Epoch: 12, loss: 1.151817, train accuracy: 0.746444, val accuracy: 0.712000\n",
            "Epoch: 13, loss: 0.979458, train accuracy: 0.743889, val accuracy: 0.710000\n",
            "Epoch: 14, loss: 0.842482, train accuracy: 0.751667, val accuracy: 0.712000\n",
            "Epoch: 15, loss: 1.277744, train accuracy: 0.758111, val accuracy: 0.712000\n",
            "Epoch: 16, loss: 1.107261, train accuracy: 0.769111, val accuracy: 0.720000\n",
            "Epoch: 17, loss: 1.059776, train accuracy: 0.772444, val accuracy: 0.723000\n",
            "Epoch: 18, loss: 0.849432, train accuracy: 0.778444, val accuracy: 0.728000\n",
            "Epoch: 19, loss: 1.164141, train accuracy: 0.779333, val accuracy: 0.733000\n",
            "Best learning suite: best learning rate: 0.1 best regularization strength: 0.001 best learning rate decay: 0.9 best hidden layer size: 256 best batch size: 256 \n",
            "Best validation accuracy: 0.733\n",
            "Epoch: 0, loss: 2.285164, train accuracy: 0.196667, val accuracy: 0.206000\n",
            "Epoch: 1, loss: 2.053660, train accuracy: 0.228556, val accuracy: 0.239000\n",
            "Epoch: 2, loss: 1.830476, train accuracy: 0.367667, val accuracy: 0.359000\n",
            "Epoch: 3, loss: 1.490232, train accuracy: 0.441556, val accuracy: 0.472000\n",
            "Epoch: 4, loss: 1.534042, train accuracy: 0.564111, val accuracy: 0.553000\n",
            "Epoch: 5, loss: 1.444715, train accuracy: 0.620556, val accuracy: 0.594000\n",
            "Epoch: 6, loss: 1.107654, train accuracy: 0.643889, val accuracy: 0.628000\n",
            "Epoch: 7, loss: 0.830781, train accuracy: 0.681889, val accuracy: 0.662000\n",
            "Epoch: 8, loss: 1.243948, train accuracy: 0.711000, val accuracy: 0.683000\n",
            "Epoch: 9, loss: 1.196135, train accuracy: 0.705333, val accuracy: 0.674000\n",
            "Epoch: 10, loss: 0.911776, train accuracy: 0.744556, val accuracy: 0.712000\n",
            "Epoch: 11, loss: 1.125312, train accuracy: 0.749889, val accuracy: 0.706000\n",
            "Epoch: 12, loss: 1.064934, train accuracy: 0.747778, val accuracy: 0.706000\n",
            "Epoch: 13, loss: 1.246529, train accuracy: 0.762222, val accuracy: 0.722000\n",
            "Epoch: 14, loss: 0.898303, train accuracy: 0.759556, val accuracy: 0.712000\n",
            "Epoch: 15, loss: 0.861584, train accuracy: 0.774556, val accuracy: 0.727000\n",
            "Epoch: 16, loss: 1.179878, train accuracy: 0.784556, val accuracy: 0.735000\n",
            "Epoch: 17, loss: 0.929685, train accuracy: 0.789222, val accuracy: 0.732000\n",
            "Epoch: 18, loss: 1.041469, train accuracy: 0.793444, val accuracy: 0.736000\n",
            "Epoch: 19, loss: 0.803740, train accuracy: 0.794000, val accuracy: 0.737000\n",
            "Best learning suite: best learning rate: 0.1 best regularization strength: 0.001 best learning rate decay: 0.9 best hidden layer size: 512 best batch size: 256 \n",
            "Best validation accuracy: 0.737\n",
            "Epoch: 0, loss: 2.278517, train accuracy: 0.196667, val accuracy: 0.206000\n",
            "Epoch: 1, loss: 2.229256, train accuracy: 0.196667, val accuracy: 0.206000\n",
            "Epoch: 2, loss: 2.235528, train accuracy: 0.196667, val accuracy: 0.206000\n",
            "Epoch: 3, loss: 2.233289, train accuracy: 0.196667, val accuracy: 0.206000\n",
            "Epoch: 4, loss: 2.212546, train accuracy: 0.196667, val accuracy: 0.206000\n",
            "Epoch: 5, loss: 2.213124, train accuracy: 0.196667, val accuracy: 0.206000\n",
            "Epoch: 6, loss: 2.295004, train accuracy: 0.196667, val accuracy: 0.206000\n",
            "Epoch: 7, loss: 2.237416, train accuracy: 0.196667, val accuracy: 0.206000\n",
            "Epoch: 8, loss: 2.106983, train accuracy: 0.196667, val accuracy: 0.206000\n",
            "Epoch: 9, loss: 2.252711, train accuracy: 0.196667, val accuracy: 0.206000\n",
            "Epoch: 10, loss: 2.281518, train accuracy: 0.196667, val accuracy: 0.206000\n",
            "Epoch: 11, loss: 2.238608, train accuracy: 0.196667, val accuracy: 0.206000\n",
            "Epoch: 12, loss: 2.176226, train accuracy: 0.196667, val accuracy: 0.206000\n",
            "Epoch: 13, loss: 2.228207, train accuracy: 0.196667, val accuracy: 0.206000\n",
            "Epoch: 14, loss: 2.211953, train accuracy: 0.196667, val accuracy: 0.206000\n",
            "Epoch: 15, loss: 2.225559, train accuracy: 0.196667, val accuracy: 0.206000\n",
            "Epoch: 16, loss: 2.206610, train accuracy: 0.196667, val accuracy: 0.206000\n",
            "Epoch: 17, loss: 2.182373, train accuracy: 0.196667, val accuracy: 0.206000\n",
            "Epoch: 18, loss: 2.371934, train accuracy: 0.196667, val accuracy: 0.206000\n",
            "Epoch: 19, loss: 2.172502, train accuracy: 0.196667, val accuracy: 0.206000\n",
            "Best learning suite: best learning rate: 0.1 best regularization strength: 0.001 best learning rate decay: 0.9 best hidden layer size: 512 best batch size: 256 \n",
            "Best validation accuracy: 0.737\n",
            "Epoch: 0, loss: 2.259427, train accuracy: 0.196667, val accuracy: 0.206000\n",
            "Epoch: 1, loss: 2.220371, train accuracy: 0.196667, val accuracy: 0.206000\n",
            "Epoch: 2, loss: 2.175138, train accuracy: 0.196667, val accuracy: 0.206000\n",
            "Epoch: 3, loss: 2.238218, train accuracy: 0.196667, val accuracy: 0.206000\n",
            "Epoch: 4, loss: 2.245512, train accuracy: 0.196667, val accuracy: 0.206000\n",
            "Epoch: 5, loss: 2.129791, train accuracy: 0.196667, val accuracy: 0.206000\n",
            "Epoch: 6, loss: 2.164487, train accuracy: 0.196667, val accuracy: 0.206000\n",
            "Epoch: 7, loss: 2.270990, train accuracy: 0.196667, val accuracy: 0.206000\n",
            "Epoch: 8, loss: 2.219012, train accuracy: 0.196667, val accuracy: 0.206000\n",
            "Epoch: 9, loss: 2.229735, train accuracy: 0.196667, val accuracy: 0.206000\n",
            "Epoch: 10, loss: 2.198447, train accuracy: 0.196667, val accuracy: 0.206000\n",
            "Epoch: 11, loss: 2.186217, train accuracy: 0.196667, val accuracy: 0.206000\n",
            "Epoch: 12, loss: 2.135658, train accuracy: 0.196667, val accuracy: 0.206000\n",
            "Epoch: 13, loss: 2.164828, train accuracy: 0.196667, val accuracy: 0.206000\n",
            "Epoch: 14, loss: 2.133761, train accuracy: 0.196667, val accuracy: 0.206000\n",
            "Epoch: 15, loss: 2.226682, train accuracy: 0.196667, val accuracy: 0.206000\n",
            "Epoch: 16, loss: 2.254407, train accuracy: 0.196667, val accuracy: 0.206000\n",
            "Epoch: 17, loss: 2.300441, train accuracy: 0.196667, val accuracy: 0.206000\n",
            "Epoch: 18, loss: 2.170461, train accuracy: 0.196667, val accuracy: 0.206000\n",
            "Epoch: 19, loss: 2.303354, train accuracy: 0.196667, val accuracy: 0.206000\n",
            "Best learning suite: best learning rate: 0.1 best regularization strength: 0.001 best learning rate decay: 0.9 best hidden layer size: 512 best batch size: 256 \n",
            "Best validation accuracy: 0.737\n",
            "Best validation accuracy achieved: 0.737\n"
          ]
        }
      ],
      "source": [
        "# Let's train the best one-hidden-layer network we can\n",
        "from itertools import product\n",
        "\n",
        "\n",
        "learning_rates = [1e-1, 1e-2]\n",
        "reg_strength = [1e-3]\n",
        "learning_rate_decay = [0.9]\n",
        "hidden_layer_size = [256, 512]\n",
        "num_epochs = 20\n",
        "batch_size = [256]\n",
        "\n",
        "best_classifier = None\n",
        "best_val_accuracy = 0\n",
        "\n",
        "loss_history = []\n",
        "train_history = []\n",
        "val_history = []\n",
        "\n",
        "dataset = Dataset(train_X, train_y, val_X, val_y)\n",
        "\n",
        "# TODO find the best hyperparameters to train the network\n",
        "# Don't hesitate to add new values to the arrays above, perform experiments, use any tricks you want\n",
        "# You should expect to get to at least 40% of valudation accuracy\n",
        "# Save loss/train/history of the best classifier to the variables above\n",
        "\n",
        "learning_suites = [\n",
        "    learning_rates,\n",
        "    reg_strength,\n",
        "    learning_rate_decay,\n",
        "    hidden_layer_size,\n",
        "    batch_size\n",
        "]\n",
        "\n",
        "best_learning_suite = None\n",
        "\n",
        "for lr, rs, lrd, hls, bs in product(*learning_suites):\n",
        "    model = TwoLayerNet(n_input=train_X.shape[1],\n",
        "                        n_output=10,\n",
        "                        hidden_layer_size=hls,\n",
        "                        reg=rs\n",
        "                        )\n",
        "    trainer = Trainer(model, dataset, MomentumSGD(),\n",
        "                      learning_rate=lr,\n",
        "                      learning_rate_decay=lrd,\n",
        "                      num_epochs=num_epochs,\n",
        "                      batch_size=bs\n",
        "                      )\n",
        "    ls_loss_history, ls_train_history, ls_val_history = trainer.fit()\n",
        "\n",
        "    if ls_val_history[-1] > best_val_accuracy:\n",
        "        best_classifier = model\n",
        "        best_val_accuracy = ls_val_history[-1]\n",
        "        best_learning_suite = [(lr, rs, lrd, hls, bs)]\n",
        "        loss_history = ls_loss_history.copy()\n",
        "        train_history = ls_train_history.copy()\n",
        "        val_history = ls_val_history.copy()\n",
        "\n",
        "    for best_lr, best_rs, best_lrd, best_hls, best_bs in best_learning_suite:\n",
        "        print(f'Best learning suite: '\n",
        "              f'best learning rate: {best_lr} '\n",
        "              f'best regularization strength: {best_rs} '\n",
        "              f'best learning rate decay: {best_lrd} '\n",
        "              f'best hidden layer size: {best_hls} '\n",
        "              f'best batch size: {best_bs} '\n",
        "              )\n",
        "    print(f'Best validation accuracy: {best_val_accuracy}')\n",
        "\n",
        "print(f'Best validation accuracy achieved: {best_val_accuracy}')"
      ]
    },
    {
      "cell_type": "code",
      "execution_count": 136,
      "metadata": {
        "id": "T8z9bZj13agr",
        "colab": {
          "base_uri": "https://localhost:8080/",
          "height": 461
        },
        "outputId": "5c55c09b-5107-4c75-8196-9007fdf93dca"
      },
      "outputs": [
        {
          "output_type": "execute_result",
          "data": {
            "text/plain": [
              "[<matplotlib.lines.Line2D at 0x7f29336e7790>]"
            ]
          },
          "metadata": {},
          "execution_count": 136
        },
        {
          "output_type": "display_data",
          "data": {
            "text/plain": [
              "<Figure size 1080x504 with 2 Axes>"
            ],
            "image/png": "[encoded data removed]"
          },
          "metadata": {
            "needs_background": "light"
          }
        }
      ],
      "source": [
        "plt.figure(figsize=(15, 7))\n",
        "plt.subplot(211)\n",
        "plt.title(\"Loss\")\n",
        "plt.plot(loss_history)\n",
        "plt.subplot(212)\n",
        "plt.title(\"Train/validation accuracy\")\n",
        "plt.plot(train_history)\n",
        "plt.plot(val_history)"
      ]
    },
    {
      "cell_type": "markdown",
      "metadata": {
        "id": "R0wu4WYp3agr"
      },
      "source": [
        "# Как обычно, посмотрим, как наша лучшая модель работает на тестовых данных"
      ]
    },
    {
      "cell_type": "code",
      "execution_count": 137,
      "metadata": {
        "id": "MEhBd7el3agr",
        "colab": {
          "base_uri": "https://localhost:8080/"
        },
        "outputId": "c3efe074-f7cb-4404-c7a9-f69c70e27678"
      },
      "outputs": [
        {
          "output_type": "stream",
          "name": "stdout",
          "text": [
            "Neural net test set accuracy: 0.707000\n"
          ]
        }
      ],
      "source": [
        "test_pred = best_classifier.predict(test_X)\n",
        "test_accuracy = multiclass_accuracy(test_pred, test_y)\n",
        "print('Neural net test set accuracy: %f' % (test_accuracy, ))"
      ]
    }
  ],
  "metadata": {
    "colab": {
      "collapsed_sections": [],
      "name": "Копия блокнота \"Neural Network.ipynb\"",
      "provenance": []
    },
    "kernelspec": {
      "display_name": "Python 3",
      "language": "python",
      "name": "python3"
    },
    "language_info": {
      "codemirror_mode": {
        "name": "ipython",
        "version": 3
      },
      "file_extension": ".py",
      "mimetype": "text/x-python",
      "name": "python",
      "nbconvert_exporter": "python",
      "pygments_lexer": "ipython3",
      "version": "3.7.0"
    }
  },
  "nbformat": 4,
  "nbformat_minor": 0
}