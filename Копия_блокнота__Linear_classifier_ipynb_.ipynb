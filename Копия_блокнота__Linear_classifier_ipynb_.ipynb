{
  "cells": [
    {
      "cell_type": "markdown",
      "metadata": {
        "id": "8HSW4wPtxQdn"
      },
      "source": [
        "# Задание 1.2 - Линейный классификатор (Linear classifier)\n",
        "\n",
        "В этом задании мы реализуем другую модель машинного обучения - линейный классификатор. Линейный классификатор подбирает для каждого класса веса, на которые нужно умножить значение каждого признака и потом сложить вместе.\n",
        "Тот класс, у которого эта сумма больше, и является предсказанием модели.\n",
        "\n",
        "В этом задании вы:\n",
        "- потренируетесь считать градиенты различных многомерных функций\n",
        "- реализуете подсчет градиентов через линейную модель и функцию потерь softmax\n",
        "- реализуете процесс тренировки линейного классификатора\n",
        "- подберете параметры тренировки на практике\n",
        "\n",
        "На всякий случай, еще раз ссылка на туториал по numpy:  \n",
        "http://cs231n.github.io/python-numpy-tutorial/"
      ]
    },
    {
      "cell_type": "code",
      "execution_count": 43,
      "metadata": {
        "colab": {
          "base_uri": "https://localhost:8080/"
        },
        "id": "znRclMy5xXw_",
        "outputId": "0e04d401-fbfd-4c0a-c653-baffab2e3bcb"
      },
      "outputs": [
        {
          "output_type": "stream",
          "name": "stdout",
          "text": [
            "fatal: destination path 'dlcourse_ai' already exists and is not an empty directory.\n"
          ]
        }
      ],
      "source": [
        "!git clone https://github.com/sim0nsays/dlcourse_ai.git"
      ]
    },
    {
      "cell_type": "code",
      "execution_count": null,
      "metadata": {
        "colab": {
          "base_uri": "https://localhost:8080/"
        },
        "id": "KicP5hfq2ZaH",
        "outputId": "40c717f0-cf00-4896-e614-c2706fed304b"
      },
      "outputs": [
        {
          "output_type": "stream",
          "name": "stdout",
          "text": [
            "mkdir: cannot create directory ‘data’: File exists\n",
            "--2022-05-22 09:00:15--  http://ufldl.stanford.edu/housenumbers/train_32x32.mat\n",
            "Resolving ufldl.stanford.edu (ufldl.stanford.edu)... 171.64.68.10\n",
            "Connecting to ufldl.stanford.edu (ufldl.stanford.edu)|171.64.68.10|:80... connected.\n",
            "HTTP request sent, awaiting response... 416 Requested Range Not Satisfiable\n",
            "\n",
            "    The file is already fully retrieved; nothing to do.\n",
            "\n",
            "--2022-05-22 09:00:15--  http://ufldl.stanford.edu/housenumbers/test_32x32.mat\n",
            "Reusing existing connection to ufldl.stanford.edu:80.\n",
            "HTTP request sent, awaiting response... 416 Requested Range Not Satisfiable\n",
            "\n",
            "    The file is already fully retrieved; nothing to do.\n",
            "\n"
          ]
        }
      ],
      "source": [
        "!/content/dlcourse_ai/assignments/assignment1/download_data.sh"
      ]
    },
    {
      "cell_type": "code",
      "execution_count": null,
      "metadata": {
        "colab": {
          "base_uri": "https://localhost:8080/"
        },
        "id": "q7DTrtsj2Zdl",
        "outputId": "e172aeb8-a666-4540-ccb9-40d205465708"
      },
      "outputs": [
        {
          "output_type": "stream",
          "name": "stdout",
          "text": [
            "Requirement already satisfied: numpy in /usr/local/lib/python3.7/dist-packages (from -r /content/dlcourse_ai/assignments/assignment1/requirements.txt (line 1)) (1.21.6)\n",
            "Requirement already satisfied: matplotlib in /usr/local/lib/python3.7/dist-packages (from -r /content/dlcourse_ai/assignments/assignment1/requirements.txt (line 2)) (3.2.2)\n",
            "Requirement already satisfied: scipy in /usr/local/lib/python3.7/dist-packages (from -r /content/dlcourse_ai/assignments/assignment1/requirements.txt (line 3)) (1.4.1)\n",
            "Requirement already satisfied: python-dateutil>=2.1 in /usr/local/lib/python3.7/dist-packages (from matplotlib->-r /content/dlcourse_ai/assignments/assignment1/requirements.txt (line 2)) (2.8.2)\n",
            "Requirement already satisfied: kiwisolver>=1.0.1 in /usr/local/lib/python3.7/dist-packages (from matplotlib->-r /content/dlcourse_ai/assignments/assignment1/requirements.txt (line 2)) (1.4.2)\n",
            "Requirement already satisfied: cycler>=0.10 in /usr/local/lib/python3.7/dist-packages (from matplotlib->-r /content/dlcourse_ai/assignments/assignment1/requirements.txt (line 2)) (0.11.0)\n",
            "Requirement already satisfied: pyparsing!=2.0.4,!=2.1.2,!=2.1.6,>=2.0.1 in /usr/local/lib/python3.7/dist-packages (from matplotlib->-r /content/dlcourse_ai/assignments/assignment1/requirements.txt (line 2)) (3.0.9)\n",
            "Requirement already satisfied: typing-extensions in /usr/local/lib/python3.7/dist-packages (from kiwisolver>=1.0.1->matplotlib->-r /content/dlcourse_ai/assignments/assignment1/requirements.txt (line 2)) (4.2.0)\n",
            "Requirement already satisfied: six>=1.5 in /usr/local/lib/python3.7/dist-packages (from python-dateutil>=2.1->matplotlib->-r /content/dlcourse_ai/assignments/assignment1/requirements.txt (line 2)) (1.15.0)\n"
          ]
        }
      ],
      "source": [
        "!pip install -r /content/dlcourse_ai/assignments/assignment1/requirements.txt"
      ]
    },
    {
      "cell_type": "code",
      "execution_count": null,
      "metadata": {
        "id": "3G9pIS3C2Zgb"
      },
      "outputs": [],
      "source": [
        "!cp /content/dlcourse_ai/assignments/assignment1/* ."
      ]
    },
    {
      "cell_type": "code",
      "execution_count": null,
      "metadata": {
        "id": "EB8FcA2FxQdr",
        "colab": {
          "base_uri": "https://localhost:8080/"
        },
        "outputId": "5fb9eb5d-b5ae-4723-e74e-bbeb9a71fff0"
      },
      "outputs": [
        {
          "output_type": "stream",
          "name": "stdout",
          "text": [
            "The autoreload extension is already loaded. To reload it, use:\n",
            "  %reload_ext autoreload\n"
          ]
        }
      ],
      "source": [
        "import numpy as np\n",
        "import matplotlib.pyplot as plt\n",
        "\n",
        "%matplotlib inline\n",
        "\n",
        "%load_ext autoreload\n",
        "%autoreload 2"
      ]
    },
    {
      "cell_type": "code",
      "execution_count": 44,
      "metadata": {
        "id": "4KZEF_hDxQds"
      },
      "outputs": [],
      "source": [
        "from dataset import load_svhn, random_split_train_val\n",
        "from gradient_check import check_gradient\n",
        "from metrics import multiclass_accuracy \n",
        "import linear_classifer"
      ]
    },
    {
      "cell_type": "markdown",
      "metadata": {
        "id": "asI-oeLpxQdt"
      },
      "source": [
        "# Как всегда, первым делом загружаем данные\n",
        "\n",
        "Мы будем использовать все тот же SVHN."
      ]
    },
    {
      "cell_type": "code",
      "execution_count": 45,
      "metadata": {
        "colab": {
          "base_uri": "https://localhost:8080/"
        },
        "id": "ACX3JhsrxQdt",
        "outputId": "e846a385-8224-4001-e8de-57fab18647b8"
      },
      "outputs": [
        {
          "output_type": "stream",
          "name": "stderr",
          "text": [
            "/usr/local/lib/python3.7/dist-packages/ipykernel_launcher.py:2: DeprecationWarning: `np.float` is a deprecated alias for the builtin `float`. To silence this warning, use `float` by itself. Doing this will not modify any behavior and is safe. If you specifically wanted the numpy scalar type, use `np.float64` here.\n",
            "Deprecated in NumPy 1.20; for more details and guidance: https://numpy.org/devdocs/release/1.20.0-notes.html#deprecations\n",
            "  \n",
            "/usr/local/lib/python3.7/dist-packages/ipykernel_launcher.py:3: DeprecationWarning: `np.float` is a deprecated alias for the builtin `float`. To silence this warning, use `float` by itself. Doing this will not modify any behavior and is safe. If you specifically wanted the numpy scalar type, use `np.float64` here.\n",
            "Deprecated in NumPy 1.20; for more details and guidance: https://numpy.org/devdocs/release/1.20.0-notes.html#deprecations\n",
            "  This is separate from the ipykernel package so we can avoid doing imports until\n"
          ]
        }
      ],
      "source": [
        "def prepare_for_linear_classifier(train_X, test_X):\n",
        "    train_flat = train_X.reshape(train_X.shape[0], -1).astype(np.float) / 255.0\n",
        "    test_flat = test_X.reshape(test_X.shape[0], -1).astype(np.float) / 255.0\n",
        "    \n",
        "    # Subtract mean\n",
        "    mean_image = np.mean(train_flat, axis = 0)\n",
        "    train_flat -= mean_image\n",
        "    test_flat -= mean_image\n",
        "    \n",
        "    # Add another channel with ones as a bias term\n",
        "    train_flat_with_ones = np.hstack([train_flat, np.ones((train_X.shape[0], 1))])\n",
        "    test_flat_with_ones = np.hstack([test_flat, np.ones((test_X.shape[0], 1))])    \n",
        "    return train_flat_with_ones, test_flat_with_ones\n",
        "    \n",
        "train_X, train_y, test_X, test_y = load_svhn(\"data\", max_train=10000, max_test=1000)    \n",
        "train_X, test_X = prepare_for_linear_classifier(train_X, test_X)\n",
        "# Split train into train and val\n",
        "train_X, train_y, val_X, val_y = random_split_train_val(train_X, train_y, num_val = 1000)"
      ]
    },
    {
      "cell_type": "markdown",
      "metadata": {
        "id": "SCdWLRxvxQdu"
      },
      "source": [
        "# Играемся с градиентами!\n",
        "\n",
        "В этом курсе мы будем писать много функций, которые вычисляют градиенты аналитическим методом.\n",
        "\n",
        "Все функции, в которых мы будем вычислять градиенты, будут написаны по одной и той же схеме.  \n",
        "Они будут получать на вход точку, где нужно вычислить значение и градиент функции, а на выходе будут выдавать кортеж (tuple) из двух значений - собственно значения функции в этой точке (всегда одно число) и аналитического значения градиента в той же точке (той же размерности, что и вход).\n",
        "```\n",
        "def f(x):\n",
        "    \"\"\"\n",
        "    Computes function and analytic gradient at x\n",
        "    \n",
        "    x: np array of float, input to the function\n",
        "    \n",
        "    Returns:\n",
        "    value: float, value of the function \n",
        "    grad: np array of float, same shape as x\n",
        "    \"\"\"\n",
        "    ...\n",
        "    \n",
        "    return value, grad\n",
        "```\n",
        "\n",
        "Необходимым инструментом во время реализации кода, вычисляющего градиенты, является функция его проверки. Эта функция вычисляет градиент численным методом и сверяет результат с градиентом, вычисленным аналитическим методом.\n",
        "\n",
        "Мы начнем с того, чтобы реализовать вычисление численного градиента (numeric gradient) в функции `check_gradient` в `gradient_check.py`. Эта функция будет принимать на вход функции формата, заданного выше, использовать значение `value` для вычисления численного градиента и сравнит его с аналитическим - они должны сходиться.\n",
        "\n",
        "Напишите часть функции, которая вычисляет градиент с помощью численной производной для каждой координаты. Для вычисления производной используйте так называемую two-point formula (https://en.wikipedia.org/wiki/Numerical_differentiation):\n",
        "\n",
        "![image](https://wikimedia.org/api/rest_v1/media/math/render/svg/22fc2c0a66c63560a349604f8b6b39221566236d)\n",
        "\n",
        "Все функции приведенные в следующей клетке должны проходить gradient check."
      ]
    },
    {
      "cell_type": "code",
      "execution_count": 56,
      "metadata": {
        "id": "6jUV9MZD9Cg7"
      },
      "outputs": [],
      "source": [
        "def check_gradient(f, x, delta=1e-5, tol = 1e-4):\n",
        "    '''\n",
        "    Checks the implementation of analytical gradient by comparing\n",
        "    it to numerical gradient using two-point formula\n",
        "    Arguments:\n",
        "      f: function that receives x and computes value and gradient\n",
        "      x: np array, initial point where gradient is checked\n",
        "      delta: step to compute numerical gradient\n",
        "      tol: tolerance for comparing numerical and analytical gradient\n",
        "    Return:\n",
        "      bool indicating whether gradients match or not\n",
        "    '''\n",
        "    \n",
        "    assert isinstance(x, np.ndarray)\n",
        "    assert x.dtype == float\n",
        "    \n",
        "    orig_x = x.copy()\n",
        "    fx, analytic_grad = f(x)\n",
        "    assert np.all(np.isclose(orig_x, x, tol)), \"Functions shouldn't modify input variables\"\n",
        "\n",
        "    assert analytic_grad.shape == x.shape\n",
        "    analytic_grad = analytic_grad.copy()\n",
        "\n",
        "    # We will go through every dimension of x and compute numeric\n",
        "    # derivative for it\n",
        "    it = np.nditer(x, flags=['multi_index'], op_flags=['readwrite'])\n",
        "    while not it.finished:\n",
        "        ix = it.multi_index\n",
        "        analytic_grad_at_ix = analytic_grad[ix]\n",
        "        numeric_grad_at_ix = 0\n",
        "\n",
        "        # TODO compute value of numeric gradient of f to idx\n",
        "        x0 = x.copy()\n",
        "        x1 = x.copy()\n",
        "        x0[ix]+=delta\n",
        "        x1[ix]-=delta\n",
        "        numeric_grad_at_ix=(f(x0)[0]-f(x1)[0])/(2*delta)\n",
        "        \n",
        "        if not np.isclose(numeric_grad_at_ix, analytic_grad_at_ix, tol):\n",
        "            print(\"Gradients are different at %s. Analytic: %2.5f, Numeric: %2.5f\" % (ix, analytic_grad_at_ix, numeric_grad_at_ix))\n",
        "            return False\n",
        "\n",
        "        it.iternext()\n",
        "\n",
        "    print(\"Gradient check passed!\")\n",
        "    return True"
      ]
    },
    {
      "cell_type": "code",
      "execution_count": 57,
      "metadata": {
        "colab": {
          "base_uri": "https://localhost:8080/"
        },
        "id": "PFaxAAPkxQdv",
        "outputId": "d22cca3b-3148-434a-ac0a-c37fea52016d",
        "scrolled": true
      },
      "outputs": [
        {
          "output_type": "stream",
          "name": "stdout",
          "text": [
            "Gradient check passed!\n",
            "Gradient check passed!\n",
            "Gradient check passed!\n"
          ]
        },
        {
          "output_type": "execute_result",
          "data": {
            "text/plain": [
              "True"
            ]
          },
          "metadata": {},
          "execution_count": 57
        }
      ],
      "source": [
        "# TODO: Implement check_gradient function in gradient_check.py\n",
        "# All the functions below should pass the gradient check\n",
        "\n",
        "def square(x):\n",
        "    return float(x*x), 2*x\n",
        "\n",
        "check_gradient(square, np.array([3.0]))\n",
        "\n",
        "def array_sum(x):\n",
        "    assert x.shape == (2,), x.shape\n",
        "    return np.sum(x), np.ones_like(x)\n",
        "\n",
        "check_gradient(array_sum, np.array([3.0, 2.0]))\n",
        "\n",
        "def array_2d_sum(x):\n",
        "    assert x.shape == (2,2)\n",
        "    return np.sum(x), np.ones_like(x)\n",
        "\n",
        "check_gradient(array_2d_sum, np.array([[3.0, 2.0], [1.0, 0.0]]))"
      ]
    },
    {
      "cell_type": "markdown",
      "metadata": {
        "id": "v9ylbWEsxQdw"
      },
      "source": [
        "## Начинаем писать свои функции, считающие аналитический градиент\n",
        "\n",
        "Теперь реализуем функцию softmax, которая получает на вход оценки для каждого класса и преобразует их в вероятности от 0 до 1:\n",
        "![image](https://wikimedia.org/api/rest_v1/media/math/render/svg/e348290cf48ddbb6e9a6ef4e39363568b67c09d3)\n",
        "\n",
        "**Важно:** Практический аспект вычисления этой функции заключается в том, что в ней учавствует вычисление экспоненты от потенциально очень больших чисел - это может привести к очень большим значениям в числителе и знаменателе за пределами диапазона float.\n",
        "\n",
        "К счастью, у этой проблемы есть простое решение -- перед вычислением softmax вычесть из всех оценок максимальное значение среди всех оценок:\n",
        "```\n",
        "predictions -= np.max(predictions)\n",
        "```\n",
        "(подробнее здесь - http://cs231n.github.io/linear-classify/#softmax, секция `Practical issues: Numeric stability`)"
      ]
    },
    {
      "cell_type": "code",
      "execution_count": 48,
      "metadata": {
        "id": "IuLEfVkQ9yp0"
      },
      "outputs": [],
      "source": [
        "import numpy as np\n",
        "\n",
        "def _softmax1(z):\n",
        "      # z -= np.max(z)\n",
        "      return np.exp(z - np.max(z)) / (np.sum(np.exp(z - np.max(z))))\n",
        "\n",
        "\n",
        "class linear_classifer:\n",
        "  def softmax(predictions):\n",
        "      '''\n",
        "      Computes probabilities from scores\n",
        "      Arguments:\n",
        "        predictions, np array, shape is either (N) or (batch_size, N) -\n",
        "          classifier output\n",
        "      Returns:\n",
        "        probs, np array of the same shape as predictions - \n",
        "          probability for every class, 0..1\n",
        "      '''\n",
        "      if len(predictions.shape) == 1:\n",
        "          return _softmax1(predictions)\n",
        "      else:\n",
        "          return np.apply_along_axis(_softmax1, 1, predictions)\n",
        "\n",
        "  def cross_entropy_loss(probs, target_index):\n",
        "    '''\n",
        "    Computes cross-entropy loss\n",
        "    Arguments:\n",
        "      probs, np array, shape is either (N) or (batch_size, N) -\n",
        "        probabilities for every class\n",
        "      target_index: np array of int, shape is (1) or (batch_size) -\n",
        "        index of the true class for given sample(s)\n",
        "    Returns:\n",
        "      loss: single value\n",
        "    '''\n",
        "    y_true = np.zeros(probs.shape)\n",
        "    if isinstance(target_index, int):\n",
        "        y_true[target_index] = 1\n",
        "    else:\n",
        "        count = 0\n",
        "        for sample_y_true in target_index:\n",
        "            y_true[count][sample_y_true] = 1\n",
        "            count += 1\n",
        "\n",
        "    return - np.sum(y_true * np.log(probs))\n",
        "\n",
        "\n",
        "  def softmax_with_cross_entropy(predictions, target_index):\n",
        "    '''\n",
        "    Computes softmax and cross-entropy loss for model predictions,\n",
        "    including the gradient\n",
        "    Arguments:\n",
        "      predictions, np array, shape is either (N) or (batch_size, N) -\n",
        "        classifier output\n",
        "      target_index: np array of int, shape is (1) or (batch_size) -\n",
        "        index of the true class for given sample(s)\n",
        "    Returns:\n",
        "      loss, single value - cross-entropy loss\n",
        "      dprediction, np array same shape as predictions - gradient of predictions by loss value\n",
        "    '''\n",
        "    y_true = np.zeros(predictions.shape)\n",
        "    if isinstance(target_index, int):\n",
        "        y_true[target_index] = 1\n",
        "    else:\n",
        "        count = 0\n",
        "        for sample_y_true in target_index:\n",
        "            y_true[count][sample_y_true] = 1\n",
        "            count += 1\n",
        "\n",
        "    softmax_prob = linear_classifer.softmax(predictions)\n",
        "    loss = linear_classifer.cross_entropy_loss(softmax_prob, target_index)\n",
        "\n",
        "    dprediction = softmax_prob - y_true\n",
        "\n",
        "    return loss, dprediction\n",
        "\n",
        "\n",
        "  def l2_regularization(W, reg_strength):\n",
        "    '''\n",
        "    Computes L2 regularization loss on weights and its gradient\n",
        "    Arguments:\n",
        "      W, np array - weights\n",
        "      reg_strength - float value\n",
        "    Returns:\n",
        "      loss, single value - l2 regularization loss\n",
        "      gradient, np.array same shape as W - gradient of weight by l2 loss\n",
        "    '''\n",
        "\n",
        "    # TODO: implement l2 regularization and gradient\n",
        "    f = lambda x: reg_strength * np.sum(np.square(x))\n",
        "\n",
        "    loss = f(W)\n",
        "\n",
        "    it = np.nditer(W, flags=['multi_index'], op_flags=['readwrite'])\n",
        "\n",
        "    grad = W.copy()\n",
        "    while not it.finished:\n",
        "        ix = it.multi_index\n",
        "\n",
        "        bigger_x = W.copy()\n",
        "        bigger_x[ix] += reg_strength\n",
        "        lesser_x = W.copy()\n",
        "        lesser_x[ix] -= reg_strength\n",
        "\n",
        "        numeric_grad_at_ix = (f(bigger_x) - f(lesser_x)) / (2 * reg_strength)\n",
        "        grad[ix] = numeric_grad_at_ix\n",
        "        it.iternext()\n",
        "\n",
        "    return loss, grad\n",
        "    \n",
        "\n",
        "\n",
        "  def linear_softmax(X, W, target_index):\n",
        "    '''\n",
        "    Performs linear classification and returns loss and gradient over W\n",
        "    Arguments:\n",
        "      X, np array, shape (num_batch, num_features) - batch of images\n",
        "      W, np array, shape (num_features, classes) - weights\n",
        "      target_index, np array, shape (num_batch) - index of target classes\n",
        "    Returns:\n",
        "      loss, single value - cross-entropy loss\n",
        "      gradient, np.array same shape as W - gradient of weight by loss\n",
        "    '''\n",
        "    predictions = np.dot(X, W)\n",
        "\n",
        "    # TODO implement prediction and gradient over W\n",
        "\n",
        "    loss, dW = linear_classifer.softmax_with_cross_entropy(predictions, target_index)\n",
        "\n",
        "    dW = X.transpose().dot(dW)\n",
        "\n",
        "    return loss, dW\n"
      ]
    },
    {
      "cell_type": "code",
      "execution_count": 49,
      "metadata": {
        "id": "JmL2UEcBxQdx"
      },
      "outputs": [],
      "source": [
        "# TODO Implement softmax and cross-entropy for single sample\n",
        "probs = linear_classifer.softmax(np.array([-10, 0, 10]))\n",
        "\n",
        "# Make sure it works for big numbers too!\n",
        "probs = linear_classifer.softmax(np.array([1000, 0, 0]))\n",
        "assert np.isclose(probs[0], 1.0)"
      ]
    },
    {
      "cell_type": "markdown",
      "metadata": {
        "id": "VVPye73BxQdy"
      },
      "source": [
        "Кроме этого, мы реализуем cross-entropy loss, которую мы будем использовать как функцию ошибки (error function).\n",
        "В общем виде cross-entropy определена следующим образом:\n",
        "![image](https://wikimedia.org/api/rest_v1/media/math/render/svg/0cb6da032ab424eefdca0884cd4113fe578f4293)\n",
        "\n",
        "где x - все классы, p(x) - истинная вероятность принадлежности сэмпла классу x, а q(x) - вероятность принадлежности классу x, предсказанная моделью.  \n",
        "В нашем случае сэмпл принадлежит только одному классу, индекс которого передается функции. Для него p(x) равна 1, а для остальных классов - 0. \n",
        "\n",
        "Это позволяет реализовать функцию проще!"
      ]
    },
    {
      "cell_type": "code",
      "execution_count": 58,
      "metadata": {
        "colab": {
          "base_uri": "https://localhost:8080/"
        },
        "id": "qe5mDu3LxQdy",
        "outputId": "e74b8b2f-99b4-4507-a3c8-31b521a41cfb"
      },
      "outputs": [
        {
          "output_type": "execute_result",
          "data": {
            "text/plain": [
              "5.006760443547122"
            ]
          },
          "metadata": {},
          "execution_count": 58
        }
      ],
      "source": [
        "probs = linear_classifer.softmax(np.array([-5, 0, 5]))\n",
        "linear_classifer.cross_entropy_loss(probs, 1)"
      ]
    },
    {
      "cell_type": "markdown",
      "metadata": {
        "id": "5ZVKBzVhxQdz"
      },
      "source": [
        "После того как мы реализовали сами функции, мы можем реализовать градиент.\n",
        "\n",
        "Оказывается, что вычисление градиента становится гораздо проще, если объединить эти функции в одну, которая сначала вычисляет вероятности через softmax, а потом использует их для вычисления функции ошибки через cross-entropy loss.\n",
        "\n",
        "Эта функция `softmax_with_cross_entropy` будет возвращает и значение ошибки, и градиент по входным параметрам. Мы проверим корректность реализации с помощью `check_gradient`."
      ]
    },
    {
      "cell_type": "code",
      "execution_count": 59,
      "metadata": {
        "colab": {
          "base_uri": "https://localhost:8080/"
        },
        "id": "dxklrtlwxQdz",
        "outputId": "3b5f1388-7d2c-47c3-8cdb-cb5d05943319"
      },
      "outputs": [
        {
          "output_type": "stream",
          "name": "stdout",
          "text": [
            "Gradient check passed!\n"
          ]
        },
        {
          "output_type": "execute_result",
          "data": {
            "text/plain": [
              "True"
            ]
          },
          "metadata": {},
          "execution_count": 59
        }
      ],
      "source": [
        "# TODO Implement combined function or softmax and cross entropy and produces gradient\n",
        "loss, grad = linear_classifer.softmax_with_cross_entropy(np.array([1, 0, 0]), 1)\n",
        "check_gradient(lambda x: linear_classifer.softmax_with_cross_entropy(x, 1), np.array([1, 0, 0], float))"
      ]
    },
    {
      "cell_type": "markdown",
      "metadata": {
        "id": "fAn_XTZ0xQdz"
      },
      "source": [
        "В качестве метода тренировки мы будем использовать стохастический градиентный спуск (stochastic gradient descent или SGD), который работает с батчами сэмплов. \n",
        "\n",
        "Поэтому все наши фукнции будут получать не один пример, а батч, то есть входом будет не вектор из `num_classes` оценок, а матрица размерности `batch_size, num_classes`. Индекс примера в батче всегда будет первым измерением.\n",
        "\n",
        "Следующий шаг - переписать наши функции так, чтобы они поддерживали батчи.\n",
        "\n",
        "Финальное значение функции ошибки должно остаться числом, и оно равно среднему значению ошибки среди всех примеров в батче."
      ]
    },
    {
      "cell_type": "code",
      "execution_count": 60,
      "metadata": {
        "colab": {
          "base_uri": "https://localhost:8080/"
        },
        "id": "EfEwE0kOxQd0",
        "outputId": "4b3e02c9-735c-4f9d-ad61-96d769c09b5d",
        "scrolled": false
      },
      "outputs": [
        {
          "output_type": "stream",
          "name": "stdout",
          "text": [
            "Gradient check passed!\n",
            "Gradient check passed!\n"
          ]
        }
      ],
      "source": [
        "# TODO Extend combined function so it can receive a 2d array with batch of samples\n",
        "np.random.seed(42)\n",
        "# Test batch_size = 1\n",
        "num_classes = 4\n",
        "batch_size = 1\n",
        "predictions = np.random.randint(-1, 3, size=(batch_size, num_classes)).astype(float)\n",
        "target_index = np.random.randint(0, num_classes, size=(batch_size, 1)).astype(int)\n",
        "check_gradient(lambda x: linear_classifer.softmax_with_cross_entropy(x, target_index), predictions)\n",
        "\n",
        "# Test batch_size = 3\n",
        "num_classes = 4\n",
        "batch_size = 3\n",
        "predictions = np.random.randint(-1, 3, size=(batch_size, num_classes)).astype(float)\n",
        "target_index = np.random.randint(0, num_classes, size=(batch_size, 1)).astype(int)\n",
        "check_gradient(lambda x: linear_classifer.softmax_with_cross_entropy(x, target_index), predictions)\n",
        "\n",
        "# Make sure maximum subtraction for numberic stability is done separately for every sample in the batch\n",
        "probs = linear_classifer.softmax(np.array([[20,0,0], [1000, 0, 0]]))\n",
        "assert np.all(np.isclose(probs[:, 0], 1.0))"
      ]
    },
    {
      "cell_type": "markdown",
      "metadata": {
        "id": "1DkOF1GpxQd0"
      },
      "source": [
        "### Наконец, реализуем сам линейный классификатор!\n",
        "\n",
        "softmax и cross-entropy получают на вход оценки, которые выдает линейный классификатор.\n",
        "\n",
        "Он делает это очень просто: для каждого класса есть набор весов, на которые надо умножить пиксели картинки и сложить. Получившееся число и является оценкой класса, идущей на вход softmax.\n",
        "\n",
        "Таким образом, линейный классификатор можно представить как умножение вектора с пикселями на матрицу W размера `num_features, num_classes`. Такой подход легко расширяется на случай батча векторов с пикселями X размера `batch_size, num_features`:\n",
        "\n",
        "`predictions = X * W`, где `*` - матричное умножение.\n",
        "\n",
        "Реализуйте функцию подсчета линейного классификатора и градиентов по весам `linear_softmax` в файле `linear_classifer.py`"
      ]
    },
    {
      "cell_type": "code",
      "execution_count": 62,
      "metadata": {
        "colab": {
          "base_uri": "https://localhost:8080/"
        },
        "id": "x71LlpYbxQd1",
        "outputId": "5d34d914-62af-467d-eb29-53f1c8435c2b"
      },
      "outputs": [
        {
          "output_type": "stream",
          "name": "stdout",
          "text": [
            "Gradient check passed!\n"
          ]
        },
        {
          "output_type": "execute_result",
          "data": {
            "text/plain": [
              "True"
            ]
          },
          "metadata": {},
          "execution_count": 62
        }
      ],
      "source": [
        "# TODO Implement linear_softmax function that uses softmax with cross-entropy for linear classifier\n",
        "batch_size = 2\n",
        "num_classes = 2\n",
        "num_features = 3\n",
        "np.random.seed(42)\n",
        "W = np.random.randint(-1, 3, size=(num_features, num_classes)).astype(float)\n",
        "X = np.random.randint(-1, 3, size=(batch_size, num_features)).astype(float)\n",
        "target_index = np.ones(batch_size, dtype=int)\n",
        "\n",
        "loss, dW = linear_classifer.linear_softmax(X, W, target_index)\n",
        "check_gradient(lambda w: linear_classifer.linear_softmax(X, w, target_index), W)"
      ]
    },
    {
      "cell_type": "markdown",
      "metadata": {
        "id": "9zREpnD7xQd1"
      },
      "source": [
        "### И теперь регуляризация\n",
        "\n",
        "Мы будем использовать L2 regularization для весов как часть общей функции ошибки.\n",
        "\n",
        "Напомним, L2 regularization определяется как\n",
        "\n",
        "l2_reg_loss = regularization_strength * sum<sub>ij</sub> W[i, j]<sup>2</sup>\n",
        "\n",
        "Реализуйте функцию для его вычисления и вычисления соотвествующих градиентов."
      ]
    },
    {
      "cell_type": "code",
      "execution_count": 63,
      "metadata": {
        "colab": {
          "base_uri": "https://localhost:8080/"
        },
        "id": "wWyhAQzNxQd1",
        "outputId": "508a0b9b-4a66-4cba-847b-ec95ced2c9bd"
      },
      "outputs": [
        {
          "output_type": "stream",
          "name": "stdout",
          "text": [
            "Gradient check passed!\n"
          ]
        },
        {
          "output_type": "execute_result",
          "data": {
            "text/plain": [
              "True"
            ]
          },
          "metadata": {},
          "execution_count": 63
        }
      ],
      "source": [
        "# TODO Implement l2_regularization function that implements loss for L2 regularization\n",
        "linear_classifer.l2_regularization(W, 0.01)\n",
        "check_gradient(lambda w: linear_classifer.l2_regularization(w, 0.01), W)"
      ]
    },
    {
      "cell_type": "markdown",
      "metadata": {
        "id": "E2Zv3St9xQd1"
      },
      "source": [
        "# Тренировка!"
      ]
    },
    {
      "cell_type": "markdown",
      "metadata": {
        "id": "5rlTBaVcxQd2"
      },
      "source": [
        "Градиенты в порядке, реализуем процесс тренировки!"
      ]
    },
    {
      "cell_type": "code",
      "source": [
        "class LinearSoftmaxClassifier():\n",
        "    def __init__(self):\n",
        "        self.W = None\n",
        "\n",
        "    def fit(self, X, y, batch_size=100, learning_rate=1e-7, reg=1e-5,\n",
        "            epochs=1):\n",
        "        '''\n",
        "        Trains linear classifier\n",
        "        \n",
        "        Arguments:\n",
        "          X, np array (num_samples, num_features) - training data\n",
        "          y, np array of int (num_samples) - labels\n",
        "          batch_size, int - batch size to use\n",
        "          learning_rate, float - learning rate for gradient descent\n",
        "          reg, float - L2 regularization strength\n",
        "          epochs, int - number of epochs\n",
        "        '''\n",
        "\n",
        "        num_train = X.shape[0]\n",
        "        num_features = X.shape[1]\n",
        "        num_classes = np.max(y)+1\n",
        "        if self.W is None:\n",
        "            self.W = 0.001 * np.random.randn(num_features, num_classes)\n",
        "\n",
        "        loss_history = []\n",
        "        for epoch in range(epochs):\n",
        "            shuffled_indices = np.arange(num_train)\n",
        "            np.random.shuffle(shuffled_indices)\n",
        "            sections = np.arange(batch_size, num_train, batch_size)\n",
        "            batches_indices = np.array_split(shuffled_indices, sections)\n",
        "            # TODO implement generating batches from indices\n",
        "            # Compute loss and gradients\n",
        "            # Apply gradient to weights using learning rate\n",
        "            # Don't forget to add both cross-entropy loss\n",
        "            # and regularization!\n",
        "            loss_epoch = np.array([])\n",
        "            for batch in batches_indices:\n",
        "                loss, dW = linear_classifer.linear_softmax(X[batch], self.W, y[batch])\n",
        "                loss_reg, dW_reg = linear_classifer.l2_regularization(self.W, reg)\n",
        "                self.W += - learning_rate * (dW + dW_reg)\n",
        "                loss_epoch = np.append(loss_epoch, loss)\n",
        "            loss_history.append(loss_epoch.mean())\n",
        "            # end\n",
        "            print(\"Epoch %i, loss: %f\" % (epoch, loss))\n",
        "\n",
        "        return loss_history\n",
        "\n",
        "\n",
        "    def predict(self, X):\n",
        "        '''\n",
        "        Produces classifier predictions on the set\n",
        "       \n",
        "        Arguments:\n",
        "          X, np array (test_samples, num_features)\n",
        "        Returns:\n",
        "          y_pred, np.array of int (test_samples)\n",
        "        '''\n",
        "        y_pred = np.zeros(X.shape[0], dtype=int)\n",
        "\n",
        "        # TODO Implement class prediction\n",
        "        # Your final implementation shouldn't have any loops\n",
        "        predictions = np.dot(X, self.W)\n",
        "        probs = linear_classifer.softmax(predictions)\n",
        "        y_pred = probs.argmax(axis=1)\n",
        "\n",
        "        return y_pred"
      ],
      "metadata": {
        "id": "OBoOVNj9wm39"
      },
      "execution_count": 73,
      "outputs": []
    },
    {
      "cell_type": "code",
      "execution_count": 65,
      "metadata": {
        "colab": {
          "base_uri": "https://localhost:8080/"
        },
        "id": "Gs2W7h33xQd2",
        "outputId": "4799bda3-8327-4b08-887f-c618c173bf31",
        "scrolled": false
      },
      "outputs": [
        {
          "output_type": "stream",
          "name": "stdout",
          "text": [
            "Epoch 0, loss: 898.952293\n",
            "Epoch 1, loss: 816.194774\n",
            "Epoch 2, loss: 891.429815\n",
            "Epoch 3, loss: 814.898675\n",
            "Epoch 4, loss: 929.844823\n",
            "Epoch 5, loss: 865.632208\n",
            "Epoch 6, loss: 931.091506\n",
            "Epoch 7, loss: 1013.350902\n",
            "Epoch 8, loss: 914.784839\n",
            "Epoch 9, loss: 813.284659\n"
          ]
        }
      ],
      "source": [
        "# TODO: Implement LinearSoftmaxClassifier.fit function\n",
        "classifier = LinearSoftmaxClassifier()\n",
        "loss_history = classifier.fit(train_X, train_y, epochs=10, learning_rate=1e-3, batch_size=300, reg=1e1)"
      ]
    },
    {
      "cell_type": "code",
      "execution_count": 67,
      "metadata": {
        "colab": {
          "base_uri": "https://localhost:8080/",
          "height": 282
        },
        "id": "05Nu5VyFxQd2",
        "outputId": "948dfe77-c298-4158-e5d6-5070744dbfdc"
      },
      "outputs": [
        {
          "output_type": "execute_result",
          "data": {
            "text/plain": [
              "[<matplotlib.lines.Line2D at 0x7f74b6d567d0>]"
            ]
          },
          "metadata": {},
          "execution_count": 67
        },
        {
          "output_type": "display_data",
          "data": {
            "text/plain": [
              "<Figure size 432x288 with 1 Axes>"
            ],
            "image/png": "[encoded data removed]"
          },
          "metadata": {
            "needs_background": "light"
          }
        }
      ],
      "source": [
        "# let's look at the loss history!\n",
        "plt.plot(loss_history)"
      ]
    },
    {
      "cell_type": "code",
      "source": [
        "def multiclass_accuracy(prediction, ground_truth):\n",
        "    '''\n",
        "    Computes metrics for multiclass classification\n",
        "    Arguments:\n",
        "    prediction, np array of int (num_samples) - model predictions\n",
        "    ground_truth, np array of int (num_samples) - true labels\n",
        "    Returns:\n",
        "    accuracy - ratio of accurate predictions to total samples\n",
        "    '''\n",
        "    # TODO: Implement computing accuracy\n",
        "    return np.sum(prediction == ground_truth)/prediction.size"
      ],
      "metadata": {
        "id": "rYTRVuWETFZV"
      },
      "execution_count": 71,
      "outputs": []
    },
    {
      "cell_type": "code",
      "execution_count": 76,
      "metadata": {
        "colab": {
          "base_uri": "https://localhost:8080/"
        },
        "id": "z_pqBh_nxQd2",
        "outputId": "f9b1d074-4f7a-4b4a-ef7d-3dc76e218946"
      },
      "outputs": [
        {
          "output_type": "stream",
          "name": "stderr",
          "text": [
            "/usr/local/lib/python3.7/dist-packages/ipykernel_launcher.py:57: DeprecationWarning: `np.int` is a deprecated alias for the builtin `int`. To silence this warning, use `int` by itself. Doing this will not modify any behavior and is safe. When replacing `np.int`, you may wish to use e.g. `np.int64` or `np.int32` to specify the precision. If you wish to review your current use, check the release note link for additional information.\n",
            "Deprecated in NumPy 1.20; for more details and guidance: https://numpy.org/devdocs/release/1.20.0-notes.html#deprecations\n"
          ]
        },
        {
          "output_type": "stream",
          "name": "stdout",
          "text": [
            "Accuracy:  0.171\n",
            "Epoch 0, loss: 780.251816\n",
            "Epoch 1, loss: 808.829112\n",
            "Epoch 2, loss: 896.284657\n",
            "Epoch 3, loss: 856.075041\n",
            "Accuracy after training for 10 epochs:  0.182\n"
          ]
        }
      ],
      "source": [
        "# Let's check how it performs on validation set\n",
        "pred = classifier.predict(val_X)\n",
        "accuracy = multiclass_accuracy(pred, val_y)\n",
        "print(\"Accuracy: \", accuracy)\n",
        "\n",
        "# Now, let's train more and see if it performs better\n",
        "classifier.fit(train_X, train_y, epochs=4, learning_rate=1e-3, batch_size=300, reg=1e1)\n",
        "pred = classifier.predict(val_X)\n",
        "accuracy = multiclass_accuracy(pred, val_y)\n",
        "print(\"Accuracy after training for 10 epochs: \", accuracy)"
      ]
    },
    {
      "cell_type": "markdown",
      "metadata": {
        "id": "TJwM2bOKxQd3"
      },
      "source": [
        "### Как и раньше, используем кросс-валидацию для подбора гиперпараметтов.\n",
        "\n",
        "В этот раз, чтобы тренировка занимала разумное время, мы будем использовать только одно разделение на тренировочные (training) и проверочные (validation) данные.\n",
        "\n",
        "Теперь нам нужно подобрать не один, а два гиперпараметра! Не ограничивайте себя изначальными значениями в коде.  \n",
        "Добейтесь точности более чем **20%** на проверочных данных (validation data)."
      ]
    },
    {
      "cell_type": "code",
      "execution_count": 81,
      "metadata": {
        "id": "lJKGoCKXxQd3",
        "colab": {
          "base_uri": "https://localhost:8080/"
        },
        "outputId": "b9ddc1a6-bc6a-43be-f6f2-8c03c9b093f8"
      },
      "outputs": [
        {
          "output_type": "stream",
          "name": "stdout",
          "text": [
            "Epoch 0, loss: 919.567136\n",
            "Epoch 1, loss: 873.190574\n",
            "Epoch 2, loss: 759.436764\n",
            "Epoch 3, loss: 958.320935\n",
            "Accuracy after training for 4 epochs:  0.198\n"
          ]
        },
        {
          "output_type": "stream",
          "name": "stderr",
          "text": [
            "/usr/local/lib/python3.7/dist-packages/ipykernel_launcher.py:57: DeprecationWarning: `np.int` is a deprecated alias for the builtin `int`. To silence this warning, use `int` by itself. Doing this will not modify any behavior and is safe. When replacing `np.int`, you may wish to use e.g. `np.int64` or `np.int32` to specify the precision. If you wish to review your current use, check the release note link for additional information.\n",
            "Deprecated in NumPy 1.20; for more details and guidance: https://numpy.org/devdocs/release/1.20.0-notes.html#deprecations\n"
          ]
        },
        {
          "output_type": "stream",
          "name": "stdout",
          "text": [
            "Epoch 0, loss: 908.075344\n",
            "Epoch 1, loss: 688.420498\n",
            "Epoch 2, loss: 857.344306\n",
            "Epoch 3, loss: 879.891642\n",
            "Accuracy after training for 4 epochs:  0.191\n",
            "Epoch 0, loss: 948.545616\n",
            "Epoch 1, loss: 738.038660\n",
            "Epoch 2, loss: 794.650625\n",
            "Epoch 3, loss: 765.950610\n",
            "Accuracy after training for 4 epochs:  0.203\n",
            "Epoch 0, loss: 625.796434\n",
            "Epoch 1, loss: 626.515663\n",
            "Epoch 2, loss: 623.843614\n",
            "Epoch 3, loss: 636.415719\n",
            "Accuracy after training for 4 epochs:  0.247\n",
            "Epoch 0, loss: 623.707181\n",
            "Epoch 1, loss: 623.445740\n",
            "Epoch 2, loss: 635.799461\n",
            "Epoch 3, loss: 621.762530\n",
            "Accuracy after training for 4 epochs:  0.249\n",
            "Epoch 0, loss: 610.967941\n",
            "Epoch 1, loss: 613.006937\n",
            "Epoch 2, loss: 634.112650\n",
            "Epoch 3, loss: 634.807642\n",
            "Accuracy after training for 4 epochs:  0.258\n",
            "Epoch 0, loss: 607.698393\n",
            "Epoch 1, loss: 617.969152\n",
            "Epoch 2, loss: 590.952345\n",
            "Epoch 3, loss: 616.196084\n",
            "Accuracy after training for 4 epochs:  0.253\n",
            "Epoch 0, loss: 610.863677\n",
            "Epoch 1, loss: 598.154611\n",
            "Epoch 2, loss: 620.473753\n",
            "Epoch 3, loss: 615.927035\n",
            "Accuracy after training for 4 epochs:  0.253\n",
            "Epoch 0, loss: 609.728565\n",
            "Epoch 1, loss: 616.511067\n",
            "Epoch 2, loss: 599.024600\n",
            "Epoch 3, loss: 615.698994\n",
            "Accuracy after training for 4 epochs:  0.251\n",
            "best validation accuracy achieved: 0.258000\n"
          ]
        }
      ],
      "source": [
        "num_epochs = 200\n",
        "batch_size = 300\n",
        "\n",
        "learning_rates = [1e-3, 1e-4, 1e-5]\n",
        "reg_strengths = [1e-4, 1e-5, 1e-6]\n",
        "\n",
        "best_classifier = None\n",
        "best_val_accuracy = 0\n",
        "\n",
        "# TODO use validation set to find the best hyperparameters\n",
        "# hint: for best results, you might need to try more values for learning rate and regularization strength \n",
        "# than provided initially\n",
        "\n",
        "for rate in learning_rates:\n",
        "    for reg in reg_strengths:\n",
        "        loss_history = classifier.fit(train_X, train_y, epochs=4, learning_rate=rate, batch_size=300, reg=reg)\n",
        "        pred = classifier.predict(val_X)\n",
        "        accuracy = multiclass_accuracy(pred, val_y)\n",
        "        if accuracy > best_val_accuracy:\n",
        "            best_val_accuracy = accuracy\n",
        "            best_classifier = classifier\n",
        "            best_loss_history = loss_history\n",
        "        print(\"Accuracy after training for 4 epochs: \", accuracy)\n",
        "        \n",
        "\n",
        "print('best validation accuracy achieved: %f' % best_val_accuracy)"
      ]
    },
    {
      "cell_type": "markdown",
      "metadata": {
        "id": "anSKY_ZHxQd3"
      },
      "source": [
        "# Какой же точности мы добились на тестовых данных?"
      ]
    },
    {
      "cell_type": "code",
      "execution_count": 82,
      "metadata": {
        "id": "p4LNsQY9xQd3",
        "colab": {
          "base_uri": "https://localhost:8080/"
        },
        "outputId": "88a06957-a0c3-4d47-cd05-7607765908aa"
      },
      "outputs": [
        {
          "output_type": "stream",
          "name": "stdout",
          "text": [
            "Linear softmax classifier test set accuracy: 0.206000\n"
          ]
        },
        {
          "output_type": "stream",
          "name": "stderr",
          "text": [
            "/usr/local/lib/python3.7/dist-packages/ipykernel_launcher.py:57: DeprecationWarning: `np.int` is a deprecated alias for the builtin `int`. To silence this warning, use `int` by itself. Doing this will not modify any behavior and is safe. When replacing `np.int`, you may wish to use e.g. `np.int64` or `np.int32` to specify the precision. If you wish to review your current use, check the release note link for additional information.\n",
            "Deprecated in NumPy 1.20; for more details and guidance: https://numpy.org/devdocs/release/1.20.0-notes.html#deprecations\n"
          ]
        }
      ],
      "source": [
        "test_pred = best_classifier.predict(test_X)\n",
        "test_accuracy = multiclass_accuracy(test_pred, test_y)\n",
        "print('Linear softmax classifier test set accuracy: %f' % (test_accuracy, ))"
      ]
    }
  ],
  "metadata": {
    "colab": {
      "collapsed_sections": [],
      "name": "Копия блокнота \"Linear classifier.ipynb\"",
      "provenance": []
    },
    "kernelspec": {
      "display_name": "Python 3",
      "language": "python",
      "name": "python3"
    },
    "language_info": {
      "codemirror_mode": {
        "name": "ipython",
        "version": 3
      },
      "file_extension": ".py",
      "mimetype": "text/x-python",
      "name": "python",
      "nbconvert_exporter": "python",
      "pygments_lexer": "ipython3",
      "version": "3.7.0"
    }
  },
  "nbformat": 4,
  "nbformat_minor": 0
}